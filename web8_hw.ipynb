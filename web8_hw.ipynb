{
 "cells": [
  {
   "cell_type": "markdown",
   "id": "confident-radiation",
   "metadata": {},
   "source": [
    "#### Задание 1. Обучить любую модель классификации на датасете IRIS до применения самописного PCA (2 компоненты) и после него. Сравнить качество классификации по отложенной выборке."
   ]
  },
  {
   "cell_type": "code",
   "execution_count": 231,
   "id": "universal-wichita",
   "metadata": {},
   "outputs": [],
   "source": [
    "import numpy as np\n",
    "import matplotlib.pyplot as plt\n",
    "from sklearn import datasets\n",
    "from sklearn.model_selection import train_test_split\n",
    "\n",
    "from sklearn.ensemble import RandomForestClassifier\n",
    "from sklearn.linear_model import LogisticRegression\n",
    "from sklearn.metrics import r2_score\n",
    "\n",
    "\n",
    "import warnings\n",
    "warnings.filterwarnings('ignore')"
   ]
  },
  {
   "cell_type": "code",
   "execution_count": 232,
   "id": "violent-petite",
   "metadata": {},
   "outputs": [],
   "source": [
    "from sklearn import datasets "
   ]
  },
  {
   "cell_type": "code",
   "execution_count": 233,
   "id": "confidential-garage",
   "metadata": {},
   "outputs": [],
   "source": [
    "iris = datasets.load_iris()"
   ]
  },
  {
   "cell_type": "code",
   "execution_count": 234,
   "id": "protected-nashville",
   "metadata": {},
   "outputs": [],
   "source": [
    "X = iris.data"
   ]
  },
  {
   "cell_type": "code",
   "execution_count": 235,
   "id": "stretch-nepal",
   "metadata": {},
   "outputs": [],
   "source": [
    "y = iris.target"
   ]
  },
  {
   "cell_type": "code",
   "execution_count": 236,
   "id": "declared-courage",
   "metadata": {},
   "outputs": [],
   "source": [
    "def standard_scale(x):\n",
    "    new_x = (x - x.mean(axis=0)) / x.std(axis=0)\n",
    "    return new_x"
   ]
  },
  {
   "cell_type": "code",
   "execution_count": 237,
   "id": "auburn-blackjack",
   "metadata": {},
   "outputs": [],
   "source": [
    "X = standard_scale(X)"
   ]
  },
  {
   "cell_type": "code",
   "execution_count": 238,
   "id": "minor-computer",
   "metadata": {},
   "outputs": [],
   "source": [
    "X_train, X_test, y_train, y_test = train_test_split(X, y, test_size = 0.3, random_state = 1, stratify=y)"
   ]
  },
  {
   "cell_type": "code",
   "execution_count": 239,
   "id": "japanese-georgia",
   "metadata": {},
   "outputs": [],
   "source": [
    "def evaluate_model(x_train, y_train, x_test, y_test):\n",
    "    #model = LogisticRegression(random_state=1)\n",
    "    model = RandomForestClassifier(max_depth = 3, random_state = 1)\n",
    "    model.fit(x_train, y_train)\n",
    "    \n",
    "    train_pred = model.predict(x_train)\n",
    "    test_pred = model.predict(x_test)\n",
    "    \n",
    "    r2_train = r2_score(y_train, train_pred)\n",
    "    r2_test = r2_score(y_test, test_pred)\n",
    "    \n",
    "    print(f\"R2 score train: {r2_train:.2f}, \\nR2 score test: {r2_test:.2f}\")"
   ]
  },
  {
   "cell_type": "code",
   "execution_count": 240,
   "id": "surprising-bathroom",
   "metadata": {},
   "outputs": [
    {
     "name": "stdout",
     "output_type": "stream",
     "text": [
      "R2 score train: 0.94, \n",
      "R2 score test: 0.97\n"
     ]
    }
   ],
   "source": [
    "evaluate_model(X_train, y_train, X_test, y_test)"
   ]
  },
  {
   "cell_type": "markdown",
   "id": "finished-jungle",
   "metadata": {},
   "source": [
    "На тестовой выборке метрика получилась даже лучше, чем на обучающей выборке"
   ]
  },
  {
   "cell_type": "markdown",
   "id": "active-switzerland",
   "metadata": {},
   "source": [
    "**Проведем понижение размерности на основе метода PCA**"
   ]
  },
  {
   "cell_type": "code",
   "execution_count": 241,
   "id": "swedish-nothing",
   "metadata": {},
   "outputs": [
    {
     "name": "stdout",
     "output_type": "stream",
     "text": [
      "Собственные значения и собственные векторы в порядке убывания:\n",
      "(437.77467247979916, array([ 0.52106591, -0.26934744,  0.5804131 ,  0.56485654]))\n",
      "(137.10457072021052, array([-0.37741762, -0.92329566, -0.02449161, -0.06694199]))\n",
      "(22.01353133569726, array([-0.71956635,  0.24438178,  0.14212637,  0.63427274]))\n",
      "(3.107225464292839, array([ 0.26128628, -0.12350962, -0.80144925,  0.52359713]))\n"
     ]
    }
   ],
   "source": [
    "cov_matrix = X.T @ X\n",
    "\n",
    "eig_values, eig_vectors = np.linalg.eig(cov_matrix)\n",
    "\n",
    "# сформируем список кортежей (собственное значение, собственный вектор)\n",
    "eig_pairs = [(np.abs(eig_values[i]), eig_vectors[:, i]) for i in range(len(eig_values))]\n",
    "\n",
    "# и отсортируем список по убыванию собственных значений\n",
    "eig_pairs.sort(key=lambda x: x[0], reverse=True)\n",
    "\n",
    "print('Собственные значения и собственные векторы в порядке убывания:')\n",
    "for i in eig_pairs:\n",
    "    print(i)"
   ]
  },
  {
   "cell_type": "markdown",
   "id": "jewish-willow",
   "metadata": {},
   "source": [
    "Оценка доли дисперсии, которая описывается найденными компонентами "
   ]
  },
  {
   "cell_type": "code",
   "execution_count": 242,
   "id": "connected-madness",
   "metadata": {},
   "outputs": [
    {
     "name": "stdout",
     "output_type": "stream",
     "text": [
      "Доля дисперсии, описываемая каждой из компонент \n",
      "[72.96244541329989, 22.850761786701764, 3.6689218892828777, 0.5178709107154734]\n",
      "Кумулятивная доля дисперсии по компонентам \n",
      "[ 72.96244541  95.8132072   99.48212909 100.        ]\n"
     ]
    }
   ],
   "source": [
    "eig_sum = sum(eig_values)\n",
    "var_exp = [(i / eig_sum) * 100 for i in sorted(eig_values, reverse=True)]\n",
    "cum_var_exp = np.cumsum(var_exp)\n",
    "print(f'Доля дисперсии, описываемая каждой из компонент \\n{var_exp}')\n",
    "\n",
    "# а теперь оценим кумулятивную (то есть накапливаемую) дисперсию при учитывании каждой из компонент\n",
    "print(f'Кумулятивная доля дисперсии по компонентам \\n{cum_var_exp}')"
   ]
  },
  {
   "cell_type": "markdown",
   "id": "incorrect-mauritius",
   "metadata": {},
   "source": [
    "2 первые компоненты описывают 95.8% информации. Этого достаточно, чтобы отбросить последние 2 компоненты"
   ]
  },
  {
   "cell_type": "code",
   "execution_count": 243,
   "id": "waiting-butterfly",
   "metadata": {},
   "outputs": [
    {
     "name": "stdout",
     "output_type": "stream",
     "text": [
      "Матрица весов W:\n",
      " [[ 0.52106591 -0.37741762]\n",
      " [-0.26934744 -0.92329566]\n",
      " [ 0.5804131  -0.02449161]\n",
      " [ 0.56485654 -0.06694199]]\n"
     ]
    }
   ],
   "source": [
    "# Сформируем вектор весов из собственных векторов, соответствующих первым двум главным компонентам\n",
    "W = np.hstack([eig_pairs[i][1].reshape(4,1) for i in range(2)])\n",
    "\n",
    "print(f'Матрица весов W:\\n', W)"
   ]
  },
  {
   "cell_type": "code",
   "execution_count": 244,
   "id": "stretch-sequence",
   "metadata": {},
   "outputs": [],
   "source": [
    "# Сформируем новую матрицу \"объекты-признаки\"\n",
    "Z = X.dot(W)"
   ]
  },
  {
   "cell_type": "code",
   "execution_count": 245,
   "id": "executive-simulation",
   "metadata": {},
   "outputs": [
    {
     "data": {
      "text/plain": [
       "array([[-2.26470281, -0.4800266 ],\n",
       "       [-2.08096115,  0.67413356],\n",
       "       [-2.36422905,  0.34190802],\n",
       "       [-2.29938422,  0.59739451],\n",
       "       [-2.38984217, -0.64683538]])"
      ]
     },
     "execution_count": 245,
     "metadata": {},
     "output_type": "execute_result"
    }
   ],
   "source": [
    "Z[:5]"
   ]
  },
  {
   "cell_type": "markdown",
   "id": "geographic-diagram",
   "metadata": {},
   "source": [
    "Рассчитаем метрику качества модели, обученной на новом наборе данных (2 главные компоненты)"
   ]
  },
  {
   "cell_type": "code",
   "execution_count": 246,
   "id": "endless-conditioning",
   "metadata": {},
   "outputs": [],
   "source": [
    "Z_train, Z_test, y_train, y_test = train_test_split(Z, y, test_size = 0.3, random_state = 1, stratify=y)"
   ]
  },
  {
   "cell_type": "code",
   "execution_count": 247,
   "id": "secondary-tactics",
   "metadata": {},
   "outputs": [
    {
     "name": "stdout",
     "output_type": "stream",
     "text": [
      "R2 score train: 0.94, \n",
      "R2 score test: 0.77\n"
     ]
    }
   ],
   "source": [
    "evaluate_model(Z_train, y_train, Z_test, y_test)"
   ]
  },
  {
   "cell_type": "markdown",
   "id": "disciplinary-chemical",
   "metadata": {},
   "source": [
    "Метрика получилась ниже, чем до применения метода главных компонент. Видимо убранные признаки были значимыми. Попробуем убрать 1 признак (последний)"
   ]
  },
  {
   "cell_type": "code",
   "execution_count": 248,
   "id": "recovered-afghanistan",
   "metadata": {},
   "outputs": [],
   "source": [
    "W2 = np.hstack([eig_pairs[i][1].reshape(4,1) for i in range(3)])"
   ]
  },
  {
   "cell_type": "code",
   "execution_count": 249,
   "id": "third-anime",
   "metadata": {},
   "outputs": [],
   "source": [
    "Z2 = X.dot(W2)"
   ]
  },
  {
   "cell_type": "code",
   "execution_count": 250,
   "id": "romantic-forward",
   "metadata": {},
   "outputs": [],
   "source": [
    "Z2_train, Z2_test, y_train, y_test = train_test_split(Z2, y, test_size = 0.3, random_state = 1, stratify=y)"
   ]
  },
  {
   "cell_type": "code",
   "execution_count": 251,
   "id": "cutting-adrian",
   "metadata": {},
   "outputs": [
    {
     "name": "stdout",
     "output_type": "stream",
     "text": [
      "R2 score train: 0.94, \n",
      "R2 score test: 0.83\n"
     ]
    }
   ],
   "source": [
    "evaluate_model(Z2_train, y_train, Z2_test, y_test)"
   ]
  },
  {
   "cell_type": "markdown",
   "id": "varied-soviet",
   "metadata": {},
   "source": [
    "Метрика на валидацинной выборке все равно хуже, чем если бы мы использовали все признаки. В данном случае получается, что все признаки оказались важны."
   ]
  },
  {
   "cell_type": "markdown",
   "id": "united-growth",
   "metadata": {},
   "source": [
    "#### Задание 2. *Написать свою реализацию метода главных компонент с помощью сингулярного разложения с использованием функции [numpy.linalg.svd()](https://docs.scipy.org/doc/numpy/reference/generated/numpy.linalg.svd.html)"
   ]
  },
  {
   "cell_type": "markdown",
   "id": "employed-malpractice",
   "metadata": {},
   "source": [
    "Для реализации понижения размерности методом главных компонент с помощью SVD нужно:\n",
    "- найти сингулярное разложение $X^TX$;\n",
    "- сформировать из столбцов матрицы $V$, соответствующих $d$ наибольшим сингулярным числам, матрицу весов $W$;\n",
    "- получить новую матрицу \"объекты-признаки\", умножив исходную матрицу $X$ на матрицу весов $W$:\n",
    "\n",
    "$$Z=XW.$$"
   ]
  },
  {
   "cell_type": "code",
   "execution_count": 252,
   "id": "blank-genetics",
   "metadata": {},
   "outputs": [],
   "source": [
    "cov_matrix = X.T@X\n",
    "\n",
    "#Найдем сингулярное разложение\n",
    "U, D, V = numpy.linalg.svd(cov_matrix)\n",
    "# в данном случае \n",
    "#V - это транспонированная матрица V.T\n",
    "#D - диаг элементы матрицы D"
   ]
  },
  {
   "cell_type": "code",
   "execution_count": 253,
   "id": "civilian-disabled",
   "metadata": {},
   "outputs": [
    {
     "data": {
      "text/plain": [
       "array([437.77467248, 137.10457072,  22.01353134,   3.10722546])"
      ]
     },
     "execution_count": 253,
     "metadata": {},
     "output_type": "execute_result"
    }
   ],
   "source": [
    "D"
   ]
  },
  {
   "cell_type": "code",
   "execution_count": 262,
   "id": "frequent-orlando",
   "metadata": {},
   "outputs": [
    {
     "data": {
      "text/plain": [
       "array([[-0.52106591, -0.37741762],\n",
       "       [ 0.26934744, -0.92329566],\n",
       "       [-0.5804131 , -0.02449161],\n",
       "       [-0.56485654, -0.06694199]])"
      ]
     },
     "execution_count": 262,
     "metadata": {},
     "output_type": "execute_result"
    }
   ],
   "source": [
    "#Возьмем первые два сингулярных числа,соответственно нам нужны первые 2 столбца матрицы V\n",
    "# Не забудем что в результате разложение матрица V транспонирована, значит ее надо транспонировать обратно\n",
    "W = V.T[:, :2]\n",
    "W"
   ]
  },
  {
   "cell_type": "code",
   "execution_count": 265,
   "id": "ongoing-bikini",
   "metadata": {},
   "outputs": [],
   "source": [
    "Z = X@W"
   ]
  },
  {
   "cell_type": "code",
   "execution_count": 267,
   "id": "blank-answer",
   "metadata": {},
   "outputs": [
    {
     "data": {
      "text/plain": [
       "array([[ 2.26470281, -0.4800266 ],\n",
       "       [ 2.08096115,  0.67413356],\n",
       "       [ 2.36422905,  0.34190802],\n",
       "       [ 2.29938422,  0.59739451],\n",
       "       [ 2.38984217, -0.64683538]])"
      ]
     },
     "execution_count": 267,
     "metadata": {},
     "output_type": "execute_result"
    }
   ],
   "source": [
    "Z[:5]"
   ]
  },
  {
   "cell_type": "markdown",
   "id": "received-entertainment",
   "metadata": {},
   "source": [
    "Полученный результат аналогичен разложению матрицы по собственным векторам и собственным значениям (задание 1)"
   ]
  }
 ],
 "metadata": {
  "kernelspec": {
   "display_name": "Python 3",
   "language": "python",
   "name": "python3"
  },
  "language_info": {
   "codemirror_mode": {
    "name": "ipython",
    "version": 3
   },
   "file_extension": ".py",
   "mimetype": "text/x-python",
   "name": "python",
   "nbconvert_exporter": "python",
   "pygments_lexer": "ipython3",
   "version": "3.9.2"
  }
 },
 "nbformat": 4,
 "nbformat_minor": 5
}
