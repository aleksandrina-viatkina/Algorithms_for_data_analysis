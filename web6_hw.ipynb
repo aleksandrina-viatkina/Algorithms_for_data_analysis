{
 "cells": [
  {
   "cell_type": "markdown",
   "id": "subject-chaos",
   "metadata": {},
   "source": [
    "#### Задача 1. Для реализованной модели градиентного бустинга построить графики зависимости ошибки от количества деревьев в ансамбле и от максимальной глубины деревьев. Сделать выводы о зависимости ошибки от этих параметров."
   ]
  },
  {
   "cell_type": "code",
   "execution_count": 228,
   "id": "opposite-swing",
   "metadata": {},
   "outputs": [],
   "source": [
    "from sklearn import model_selection\n",
    "from sklearn.tree import DecisionTreeRegressor\n",
    "from sklearn.datasets import load_diabetes\n",
    "import matplotlib.pyplot as plt\n",
    "import numpy as np"
   ]
  },
  {
   "cell_type": "code",
   "execution_count": 229,
   "id": "interesting-antigua",
   "metadata": {},
   "outputs": [
    {
     "data": {
      "text/plain": [
       "((442, 10), (442,))"
      ]
     },
     "execution_count": 229,
     "metadata": {},
     "output_type": "execute_result"
    }
   ],
   "source": [
    "X, y = load_diabetes(return_X_y=True)\n",
    "X.shape, y.shape"
   ]
  },
  {
   "cell_type": "code",
   "execution_count": 230,
   "id": "meaningful-trainer",
   "metadata": {},
   "outputs": [],
   "source": [
    "#Разделим выборку на тренировочную и тестовую\n",
    "X_train, X_test, y_train, y_test = model_selection.train_test_split(X, y, test_size=0.25)"
   ]
  },
  {
   "cell_type": "code",
   "execution_count": 231,
   "id": "greatest-advertising",
   "metadata": {},
   "outputs": [],
   "source": [
    "# Функция, реализовывающая предсказание в градиентном бустинге\n",
    "\n",
    "def gb_predict(X, trees_list, eta):\n",
    "    # Реализуемый алгоритм градиентного бустинга будет инициализироваться нулевыми значениями,\n",
    "    # поэтому все деревья из списка trees_list уже являются дополнительными и при предсказании\n",
    "    # прибавляются с шагом eta\n",
    "    \n",
    "#     predictions = np.zeros(X.shape[0])\n",
    "#     for i, x in enumerate(X):\n",
    "#         prediction = 0\n",
    "#         for alg in trees_list:\n",
    "#             prediction += eta * alg.predict([x])[0]\n",
    "#         predictions[i] = prediction\n",
    "        \n",
    "    predictions = np.array(\n",
    "        [sum([eta * alg.predict([x])[0] for alg in trees_list]) for x in X]\n",
    "    )\n",
    "\n",
    "    return predictions"
   ]
  },
  {
   "cell_type": "code",
   "execution_count": 232,
   "id": "spanish-marshall",
   "metadata": {},
   "outputs": [],
   "source": [
    "# Функция для расчета среднеквадратичной ошибки\n",
    "def mean_squared_error(y_real, prediction):\n",
    "    return (sum((y_real - prediction)**2)) / len(y_real)"
   ]
  },
  {
   "cell_type": "markdown",
   "id": "isolated-agency",
   "metadata": {},
   "source": [
    "Используем $L_{2}$ loss $L(y, z) = (y - z)^{2},$ ее производная по $z$ примет вид $L'(y, z) = 2(z - y)$. Реализуем ее также в виде функции (коэффициент 2 можно отбросить)."
   ]
  },
  {
   "cell_type": "code",
   "execution_count": 233,
   "id": "according-access",
   "metadata": {},
   "outputs": [],
   "source": [
    "def residual(y, z):\n",
    "    return - (z - y)"
   ]
  },
  {
   "cell_type": "code",
   "execution_count": 234,
   "id": "adequate-brave",
   "metadata": {},
   "outputs": [],
   "source": [
    "# Реализуем функцию для обучения градиентного бустинга\n",
    "\n",
    "def gb_fit(n_trees, max_depth, X_train, X_test, y_train, y_test, eta):\n",
    "    \n",
    "    # Деревья будем записывать в список\n",
    "    trees = []\n",
    "    \n",
    "    # Будем записывать ошибки на обучающей и тестовой выборке на каждой итерации в список\n",
    "    train_errors = []\n",
    "    test_errors = []\n",
    "    \n",
    "    for i in range(n_trees):\n",
    "        tree = DecisionTreeRegressor(max_depth=max_depth, random_state=42)\n",
    "\n",
    "        # первый алгоритм просто обучаем на выборке и добавляем в список\n",
    "        if len(trees) == 0:\n",
    "            # обучаем первое дерево на обучающей выборке\n",
    "            tree.fit(X_train, y_train)\n",
    "            \n",
    "            train_errors.append(mean_squared_error(y_train, gb_predict(X_train, trees, eta)))\n",
    "            test_errors.append(mean_squared_error(y_test, gb_predict(X_test, trees, eta)))\n",
    "        else:\n",
    "            # Получим ответы на текущей композиции\n",
    "            target = gb_predict(X_train, trees, eta)\n",
    "            \n",
    "            # алгоритмы начиная со второго обучаем на сдвиг\n",
    "            tree.fit(X_train, residual(y_train, target))\n",
    "            \n",
    "            train_errors.append(mean_squared_error(y_train, gb_predict(X_train, trees, eta)))\n",
    "            test_errors.append(mean_squared_error(y_test, gb_predict(X_test, trees, eta)))\n",
    "\n",
    "        trees.append(tree)\n",
    "        \n",
    "    return trees, train_errors, test_errors"
   ]
  },
  {
   "cell_type": "markdown",
   "id": "mineral-cookie",
   "metadata": {},
   "source": [
    "**Построим график зависимости величины ошибки от количества деревьев. Сделаем вывод**"
   ]
  },
  {
   "cell_type": "code",
   "execution_count": 235,
   "id": "later-hebrew",
   "metadata": {
    "scrolled": true
   },
   "outputs": [
    {
     "name": "stdout",
     "output_type": "stream",
     "text": [
      "Кол-во деревьев: 1, Ошибка на тренировочных данных: 29408.21151710595\n",
      "Кол-во деревьев: 1, Ошибка на тестовых данных: 25999.082381310087\n",
      "\n",
      "Кол-во деревьев: 10, Ошибка на тренировочных данных: 25021.522483897552\n",
      "Кол-во деревьев: 10, Ошибка на тестовых данных: 22083.14372312582\n",
      "\n",
      "Кол-во деревьев: 30, Ошибка на тренировочных данных: 17671.440043333867\n",
      "Кол-во деревьев: 30, Ошибка на тестовых данных: 15540.279799154143\n",
      "\n",
      "Кол-во деревьев: 50, Ошибка на тренировочных данных: 12717.945994164065\n",
      "Кол-во деревьев: 50, Ошибка на тестовых данных: 11180.090160019678\n",
      "\n",
      "Кол-во деревьев: 70, Ошибка на тренировочных данных: 9375.041527940099\n",
      "Кол-во деревьев: 70, Ошибка на тестовых данных: 8263.267394263154\n",
      "\n"
     ]
    },
    {
     "data": {
      "image/png": "[encoded data removed]",
      "text/plain": [
       "<Figure size 720x360 with 1 Axes>"
      ]
     },
     "metadata": {
      "needs_background": "light"
     },
     "output_type": "display_data"
    }
   ],
   "source": [
    "n_trees = [1, 10, 30, 50, 70]\n",
    "eta = 0.01 # понизила шаг , т к было очень сильное переобучение\n",
    "max_depth = 3\n",
    "mean_train_errors = []\n",
    "mean_test_errors = []\n",
    "\n",
    "for n in n_trees:\n",
    "    trees, train_errors, test_errors = gb_fit(n, max_depth, X_train, X_test, y_train, y_test, eta)\n",
    "    \n",
    "    train_prediction = gb_predict(X_train, trees, eta)\n",
    "    mean_train_error = mean_squared_error(y_train, train_prediction)\n",
    "    \n",
    "    print(f'Кол-во деревьев: {n}, Ошибка на тренировочных данных: {mean_train_error}')\n",
    "    mean_train_errors.append(mean_train_error)\n",
    "    \n",
    "    test_prediction = gb_predict(X_test, trees, eta)\n",
    "    mean_test_error = mean_squared_error(y_test, test_prediction)\n",
    "    \n",
    "    print(f'Кол-во деревьев: {n}, Ошибка на тестовых данных: {mean_test_error}\\n')\n",
    "    mean_test_errors.append(mean_test_error)\n",
    "      \n",
    "          \n",
    "plt.figure(figsize = (10,5))\n",
    "plt.plot(n_trees, mean_train_errors, 'bo-')\n",
    "plt.plot(n_trees, mean_test_errors, 'ro-')\n",
    "\n",
    "plt.xlabel('Number of trees')\n",
    "plt.ylabel('Mean Squared Error')\n",
    "\n",
    "plt.show()"
   ]
  },
  {
   "cell_type": "markdown",
   "id": "adopted-promotion",
   "metadata": {},
   "source": [
    "Вывод: очевидно снижение величины ошибки с ростом количества деревьев в ансамбле"
   ]
  },
  {
   "cell_type": "markdown",
   "id": "liable-plenty",
   "metadata": {},
   "source": [
    "**Построим график зависимости величины ошибки от максимальной глубины деревьев. Сделаем вывод**"
   ]
  },
  {
   "cell_type": "code",
   "execution_count": 236,
   "id": "hindu-elephant",
   "metadata": {},
   "outputs": [
    {
     "name": "stdout",
     "output_type": "stream",
     "text": [
      "Макс. глубина: 1, Ошибка на тренировочных данных: 13544.954750094801\n",
      "Макс. глубина: 1, Ошибка на тестовых данных: 11448.027974715675\n",
      "\n",
      "Макс. глубина: 3, Ошибка на тренировочных данных: 12717.945994164065\n",
      "Макс. глубина: 3, Ошибка на тестовых данных: 11180.090160019678\n",
      "\n",
      "Макс. глубина: 5, Ошибка на тренировочных данных: 12158.65503105498\n",
      "Макс. глубина: 5, Ошибка на тестовых данных: 11060.905429008151\n",
      "\n",
      "Макс. глубина: 7, Ошибка на тренировочных данных: 11634.169012406828\n",
      "Макс. глубина: 7, Ошибка на тестовых данных: 11109.417910226291\n",
      "\n",
      "[13544.954750094801, 12717.945994164065, 12158.65503105498, 11634.169012406828]\n"
     ]
    },
    {
     "data": {
      "image/png": "[encoded data removed]",
      "text/plain": [
       "<Figure size 720x360 with 1 Axes>"
      ]
     },
     "metadata": {
      "needs_background": "light"
     },
     "output_type": "display_data"
    }
   ],
   "source": [
    "n_trees = 50\n",
    "eta = 0.01 # понизила шаг , т к было очень сильное переобучение\n",
    "max_depth = [1, 3, 5, 7]\n",
    "mean_train_errors1 = []\n",
    "mean_test_errors1 = []\n",
    "\n",
    "for depth in max_depth:\n",
    "    trees, train_errors, test_errors = gb_fit(n_trees, depth, X_train, X_test, y_train, y_test, eta)\n",
    "    \n",
    "    train_prediction = gb_predict(X_train, trees, eta)\n",
    "    mean_train_error1 = mean_squared_error(y_train, train_prediction)\n",
    "    print(f'Макс. глубина: {depth}, Ошибка на тренировочных данных: {mean_train_error1}')\n",
    "    mean_train_errors1.append(mean_train_error1)\n",
    "    \n",
    "    test_prediction = gb_predict(X_test, trees, eta)\n",
    "    mean_test_error1 = mean_squared_error(y_test, test_prediction)\n",
    "    print(f'Макс. глубина: {depth}, Ошибка на тестовых данных: {mean_test_error1}\\n')\n",
    "    mean_test_errors1.append(mean_test_error1)\n",
    "      \n",
    "print(mean_train_errors1)\n",
    "        \n",
    "plt.figure(figsize = (10,5))\n",
    "plt.plot(max_depth, mean_train_errors1, 'bo-')\n",
    "plt.plot(max_depth, mean_test_errors1, 'ro-')\n",
    "\n",
    "plt.xlabel('Trees Maxth Depth')\n",
    "plt.ylabel('Mean Squared Error')\n",
    "\n",
    "#plt.ylim(25000, 30000)\n",
    "\n",
    "plt.show()"
   ]
  },
  {
   "cell_type": "markdown",
   "id": "portable-assault",
   "metadata": {},
   "source": [
    "Вывод: максимальная глубина - гиперпараметр, который необходимо аккуратно ограничивать во избежание переобучение. На графике видно, что оптимальная глубина = 3, значения выше этого дают значения ошибки на тесте выше, а на тренировочных данных ошибка продолжает снижаться, что говорит о переобучении."
   ]
  },
  {
   "cell_type": "markdown",
   "id": "quiet-grade",
   "metadata": {},
   "source": [
    "#### Задача 2*. *Модифицировать реализованный алгоритм градиентного бустинга, чтобы получился стохастический градиентный бустинг. Размер подвыборки принять равным 0.5. Сравнить на одном графике кривые изменения ошибки на тестовой выборке в зависимости от числа итераций."
   ]
  },
  {
   "cell_type": "code",
   "execution_count": 237,
   "id": "quantitative-integral",
   "metadata": {},
   "outputs": [],
   "source": [
    "import random"
   ]
  },
  {
   "cell_type": "code",
   "execution_count": 238,
   "id": "complete-malawi",
   "metadata": {},
   "outputs": [],
   "source": [
    "# Реализуем функцию обучения стохастического градиентного бустинга\n",
    "\n",
    "def stohastic_gb_fit(n_trees, max_depth, X_train, X_test, y_train, y_test, eta, border):\n",
    "    \n",
    "    # Деревья будем записывать в список\n",
    "    trees = []\n",
    "    \n",
    "    # Будем записывать ошибки на обучающей и тестовой выборке на каждой итерации в список\n",
    "    train_errors = []\n",
    "    test_errors = []\n",
    "    \n",
    "    for i in range(n_trees):\n",
    "        tree = DecisionTreeRegressor(max_depth=max_depth, random_state=42)\n",
    "        \n",
    "        # Выделим выборку для обучения дерева, выделив случайные индексы в размере border\n",
    "        new_sample_indeces = np.random.randint(X_train.shape[0], size = int(X_train.shape[0]*border))\n",
    "        X_sample_for_fit = X_train[new_sample_indeces]\n",
    "        y_sample_for_fit = y_train[new_sample_indeces]\n",
    "\n",
    "        # первый алгоритм просто обучаем на выборке и добавляем в список\n",
    "        if len(trees) == 0:\n",
    "            # обучаем первое дерево на обучающей выборке\n",
    "            tree.fit(X_sample_for_fit, y_sample_for_fit)\n",
    "            \n",
    "            #Ошибки находим на всей выборке\n",
    "            \n",
    "            train_errors.append(mean_squared_error(y_train, gb_predict(X_train, trees, eta)))\n",
    "            test_errors.append(mean_squared_error(y_test, gb_predict(X_test, trees, eta)))\n",
    "        else:\n",
    "            # Получим ответы на текущей композиции\n",
    "            target = gb_predict(X_train, trees, eta)\n",
    "            \n",
    "            # алгоритмы начиная со второго обучаем на сдвиг (отклонение от истины)\n",
    "            tree.fit(X_sample_for_fit, residual(y_train, target)[new_sample_indeces])\n",
    "            \n",
    "            # Ошибки находим на всей выборке \n",
    "            \n",
    "            train_errors.append(mean_squared_error(y_train, gb_predict(X_train, trees, eta)))\n",
    "            test_errors.append(mean_squared_error(y_test, gb_predict(X_test, trees, eta)))\n",
    "\n",
    "        trees.append(tree)\n",
    "        \n",
    "    return trees, train_errors, test_errors\n",
    "    "
   ]
  },
  {
   "cell_type": "code",
   "execution_count": 239,
   "id": "utility-visitor",
   "metadata": {},
   "outputs": [],
   "source": [
    "# Число деревьев в ансамбле\n",
    "n_trees = 50\n",
    "\n",
    "# Максимальная глубина деревьев\n",
    "max_depth = 3\n",
    "\n",
    "# Шаг\n",
    "eta = 0.01\n",
    "\n",
    "trees, train_errors, test_errors = gb_fit(n_trees, max_depth, X_train, X_test, y_train, y_test, eta)"
   ]
  },
  {
   "cell_type": "code",
   "execution_count": 240,
   "id": "monetary-massachusetts",
   "metadata": {},
   "outputs": [],
   "source": [
    "def evaluate_alg(X_train, X_test, y_train, y_test, trees, eta):\n",
    "    train_prediction = gb_predict(X_train, trees, eta)\n",
    "\n",
    "    print(f'Ошибка алгоритма из {n_trees} деревьев глубиной {max_depth} \\\n",
    "    с шагом {eta} на тренировочной выборке: {mean_squared_error(y_train, train_prediction)}')\n",
    "\n",
    "    test_prediction = gb_predict(X_test, trees, eta)\n",
    "\n",
    "    print(f'Ошибка алгоритма из {n_trees} деревьев глубиной {max_depth} \\\n",
    "    с шагом {eta} на тестовой выборке: {mean_squared_error(y_test, test_prediction)}')"
   ]
  },
  {
   "cell_type": "code",
   "execution_count": 241,
   "id": "heard-housing",
   "metadata": {},
   "outputs": [
    {
     "name": "stdout",
     "output_type": "stream",
     "text": [
      "Ошибка алгоритма из 50 деревьев глубиной 3     с шагом 0.01 на тренировочной выборке: 12717.945994164065\n",
      "Ошибка алгоритма из 50 деревьев глубиной 3     с шагом 0.01 на тестовой выборке: 11180.090160019678\n"
     ]
    }
   ],
   "source": [
    "evaluate_alg(X_train, X_test, y_train, y_test, trees, eta)"
   ]
  },
  {
   "cell_type": "markdown",
   "id": "disturbed-abraham",
   "metadata": {},
   "source": [
    "**Рассчитаем значение ошибки при аналогичных параметрах, используя стохастический градиентный спуск**"
   ]
  },
  {
   "cell_type": "code",
   "execution_count": 242,
   "id": "mechanical-directive",
   "metadata": {},
   "outputs": [],
   "source": [
    "trees1, train_errors1, test_errors1 = stohastic_gb_fit(n_trees, max_depth, X_train, X_test, y_train, y_test, eta, \n",
    "                                                       border = 0.5)"
   ]
  },
  {
   "cell_type": "code",
   "execution_count": 243,
   "id": "deluxe-tunnel",
   "metadata": {},
   "outputs": [
    {
     "name": "stdout",
     "output_type": "stream",
     "text": [
      "Ошибка алгоритма из 50 деревьев глубиной 3     с шагом 0.01 на тренировочной выборке: 12678.425797455084\n",
      "Ошибка алгоритма из 50 деревьев глубиной 3     с шагом 0.01 на тестовой выборке: 10911.175093926906\n"
     ]
    }
   ],
   "source": [
    "evaluate_alg(X_train, X_test, y_train, y_test, trees1, eta)"
   ]
  },
  {
   "cell_type": "markdown",
   "id": "magnetic-crowd",
   "metadata": {},
   "source": [
    "Ошибка на стохастическом градиентном бустинге примерно такая же, как на классическом "
   ]
  },
  {
   "cell_type": "markdown",
   "id": "stock-behavior",
   "metadata": {},
   "source": [
    "#### Задача 3*. Оптимизировать процесс обучения градиентного бустинга, чтобы он занимал меньше времени."
   ]
  },
  {
   "cell_type": "code",
   "execution_count": 268,
   "id": "eleven-contractor",
   "metadata": {},
   "outputs": [],
   "source": [
    "# Функция, реализовывающая предсказание в градиентном бустинге\n",
    "\n",
    "def gb_predict(X, trees_list, eta):\n",
    "    # Реализуемый алгоритм градиентного бустинга будет инициализироваться нулевыми значениями,\n",
    "    # поэтому все деревья из списка trees_list уже являются дополнительными и при предсказании\n",
    "    # прибавляются с шагом eta\n",
    "    \n",
    "#     predictions = np.zeros(X.shape[0])\n",
    "#     prediction = 0\n",
    "#     for alg in trees_list:\n",
    "#         prediction += eta * alg.predict(X)\n",
    "#     predictions += prediction\n",
    "        \n",
    "    predictions = np.array(\n",
    "        sum([eta * alg.predict(X) for alg in trees_list])\n",
    "    )\n",
    "    return predictions"
   ]
  },
  {
   "cell_type": "code",
   "execution_count": 269,
   "id": "strategic-preview",
   "metadata": {},
   "outputs": [],
   "source": [
    "trees, train_errors, test_errors = gb_fit(n_trees, max_depth, X_train, X_test, y_train, y_test, eta)"
   ]
  },
  {
   "cell_type": "code",
   "execution_count": 270,
   "id": "going-greeting",
   "metadata": {},
   "outputs": [
    {
     "name": "stdout",
     "output_type": "stream",
     "text": [
      "Ошибка алгоритма из 50 деревьев глубиной 3     с шагом 0.01 на тренировочной выборке: 12717.945994164065\n",
      "Ошибка алгоритма из 50 деревьев глубиной 3     с шагом 0.01 на тестовой выборке: 11180.090160019678\n"
     ]
    }
   ],
   "source": [
    "# Число деревьев в ансамбле\n",
    "n_trees = 50\n",
    "\n",
    "# Максимальная глубина деревьев\n",
    "max_depth = 3\n",
    "\n",
    "# Шаг\n",
    "eta = 0.01\n",
    "evaluate_alg(X_train, X_test, y_train, y_test, trees, eta)\n",
    "\n",
    "# Ошибки были 12119, 13009"
   ]
  }
 ],
 "metadata": {
  "kernelspec": {
   "display_name": "Python 3",
   "language": "python",
   "name": "python3"
  },
  "language_info": {
   "codemirror_mode": {
    "name": "ipython",
    "version": 3
   },
   "file_extension": ".py",
   "mimetype": "text/x-python",
   "name": "python",
   "nbconvert_exporter": "python",
   "pygments_lexer": "ipython3",
   "version": "3.9.2"
  }
 },
 "nbformat": 4,
 "nbformat_minor": 5
}
