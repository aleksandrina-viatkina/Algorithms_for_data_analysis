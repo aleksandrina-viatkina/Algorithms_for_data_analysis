{
 "cells": [
  {
   "cell_type": "markdown",
   "id": "governmental-blanket",
   "metadata": {},
   "source": [
    "#### Задание 1. К алгоритму kNN, реализованному на уроке, реализовать добавление весов для соседей по любому из показанных на уроке принципов. "
   ]
  },
  {
   "cell_type": "code",
   "execution_count": 270,
   "id": "intermediate-moisture",
   "metadata": {},
   "outputs": [],
   "source": [
    "import numpy as np\n",
    "from sklearn.model_selection import train_test_split\n",
    "from sklearn.datasets import load_iris\n",
    "import matplotlib.pyplot as plt\n",
    "from matplotlib.colors import ListedColormap"
   ]
  },
  {
   "cell_type": "code",
   "execution_count": 271,
   "id": "aware-witness",
   "metadata": {},
   "outputs": [],
   "source": [
    "X, y = load_iris(return_X_y=True)\n",
    "\n",
    "# Для наглядности возьмем только первые два признака (всего в датасете их 4)\n",
    "X = X[:, :2]"
   ]
  },
  {
   "cell_type": "code",
   "execution_count": 272,
   "id": "regional-glossary",
   "metadata": {},
   "outputs": [
    {
     "data": {
      "text/plain": [
       "((120, 2), (30, 2))"
      ]
     },
     "execution_count": 272,
     "metadata": {},
     "output_type": "execute_result"
    }
   ],
   "source": [
    "X_train, X_test, y_train, y_test = train_test_split(X, y,\n",
    "                                                    test_size=0.2,\n",
    "                                                    random_state=1,\n",
    "                                                    stratify=y)\n",
    "X_train.shape, X_test.shape"
   ]
  },
  {
   "cell_type": "code",
   "execution_count": 273,
   "id": "rubber-browser",
   "metadata": {},
   "outputs": [
    {
     "data": {
      "text/plain": [
       "<matplotlib.collections.PathCollection at 0x7f9433dd5850>"
      ]
     },
     "execution_count": 273,
     "metadata": {},
     "output_type": "execute_result"
    },
    {
     "data": {
      "image/png": "[encoded data removed]",
      "text/plain": [
       "<Figure size 504x504 with 1 Axes>"
      ]
     },
     "metadata": {
      "needs_background": "light"
     },
     "output_type": "display_data"
    }
   ],
   "source": [
    "cmap = ListedColormap(['red', 'green', 'blue'])\n",
    "plt.figure(figsize=(7, 7))\n",
    "plt.scatter(X[:, 0], X[:, 1], c=y, cmap=cmap)"
   ]
  },
  {
   "cell_type": "code",
   "execution_count": 274,
   "id": "connected-suspect",
   "metadata": {},
   "outputs": [],
   "source": [
    "def e_metrics(x1, x2):\n",
    "    \n",
    "    distance = np.sum(np.square(x1 - x2))\n",
    "\n",
    "    return np.sqrt(distance)"
   ]
  },
  {
   "cell_type": "code",
   "execution_count": 275,
   "id": "studied-score",
   "metadata": {},
   "outputs": [],
   "source": [
    "def knn(x_train, y_train, x_test, k):\n",
    "    \n",
    "    answers = []\n",
    "    for x in x_test:\n",
    "        test_distances = []\n",
    "            \n",
    "        for i in range(len(x_train)):\n",
    "            \n",
    "            # расчет расстояния от классифицируемого объекта до\n",
    "            # объекта обучающей выборки\n",
    "            distance = e_metrics(x, x_train[i])\n",
    "            \n",
    "            # Определим вес соседа на основе рассчитанного расстояние от объекта тестовой выборки до этого соседа\n",
    "            # Протестируем 2 варианта нахождения весов\n",
    "            \n",
    "            #w = 1/(i+1) - в зависимости от порядкового номера \n",
    "            \n",
    "            # в зависимости от расстояния\n",
    "            q = 0.5\n",
    "            w = q**distance\n",
    "            \n",
    "            # Записываем в список значения: \n",
    "            # произведение дистанции на вес и \n",
    "            # ответа на объекте обучающей выборки\n",
    "            \n",
    "            test_distances.append((w*distance, y_train[i]))\n",
    "        \n",
    "        # создаем словарь со всеми возможными классами\n",
    "        classes = {class_item: 0 for class_item in set(y_train)}\n",
    "        \n",
    "        # Сортируем список и среди первых k элементов подсчитаем частоту появления разных классов\n",
    "        for d in sorted(test_distances)[:k]:\n",
    "            classes[d[1]] += 1\n",
    "\n",
    "        # Записываем в список ответов наиболее часто встречающийся класс\n",
    "        answers.append(sorted(classes, key=classes.get)[-1])\n",
    "       \n",
    "    return answers"
   ]
  },
  {
   "cell_type": "code",
   "execution_count": 276,
   "id": "reverse-workshop",
   "metadata": {},
   "outputs": [],
   "source": [
    "def accuracy(pred, y):\n",
    "    return (sum(pred == y) / len(y))"
   ]
  },
  {
   "cell_type": "code",
   "execution_count": 277,
   "id": "favorite-waste",
   "metadata": {},
   "outputs": [
    {
     "name": "stdout",
     "output_type": "stream",
     "text": [
      "Точность алгоритма при k = 3: 0.733\n"
     ]
    }
   ],
   "source": [
    "k = 3\n",
    "\n",
    "y_pred = knn(X_train, y_train, X_test, k)\n",
    "\n",
    "print(f'Точность алгоритма при k = {k}: {accuracy(y_pred, y_test):.3f}')"
   ]
  },
  {
   "cell_type": "markdown",
   "id": "secure-bundle",
   "metadata": {},
   "source": [
    "#### Задание 2*. *Написать функцию подсчета метрики качества кластеризации как среднее квадратичное внутрикластерное расстояние и построить график ее зависимости от количества кластеров k (взять от 1 до 10) для выборки данных из данного урока (создать датасет, как в методичке)."
   ]
  },
  {
   "cell_type": "code",
   "execution_count": 278,
   "id": "manufactured-examination",
   "metadata": {},
   "outputs": [],
   "source": [
    "from sklearn.datasets import make_blobs\n",
    "\n",
    "X, y = make_blobs(n_samples=100, random_state=1)"
   ]
  },
  {
   "cell_type": "code",
   "execution_count": 279,
   "id": "difficult-greene",
   "metadata": {},
   "outputs": [],
   "source": [
    "def kmeans(data, k, max_iterations, min_distance):\n",
    "    # Создадим словарь для кластеризации\n",
    "    clusters = {i: [] for i in range(k)}\n",
    "    \n",
    "    # инициализируем центроиды как первые k элементов датасета\n",
    "    centroids = [data[i] for i in range(k)]\n",
    "    \n",
    "    for _ in range(max_iterations):\n",
    "        # кластеризуем объекты по центроидам\n",
    "        for x in data:\n",
    "            # определим расстояния от объекта до каждого центроида\n",
    "            # расстояний столько, сколько кластеров\n",
    "            distances = [e_metrics(x, centroid) for centroid in centroids]\n",
    "            # отнесем объект к кластеру, до центроида которого наименьшее расстояние\n",
    "            #минимальное расстояние считаем за кластер\n",
    "            cluster = distances.index(min(distances))\n",
    "            clusters[cluster].append(x)\n",
    "        \n",
    "        # сохраним предыдущие центроиды в отдельный список для последующего сравнения сновыми\n",
    "        old_centroids = centroids.copy()\n",
    "        \n",
    "        # пересчитаем центроиды как среднее по кластерам\n",
    "        for cluster in clusters:\n",
    "            centroids[cluster] = np.mean(clusters[cluster], axis=0)\n",
    "            \n",
    "        # сравним величину смещения центроидов с минимальной\n",
    "        optimal = True\n",
    "        for centroid in range(len(centroids)):\n",
    "            if np.linalg.norm(centroids[centroid] - old_centroids[centroid], ord=2) > min_distance:\n",
    "                optimal = False\n",
    "                break\n",
    "        \n",
    "        # если все смещения меньше минимального, останавливаем алгоритм  \n",
    "        if optimal:\n",
    "            break\n",
    "    \n",
    "    return old_centroids, clusters\n"
   ]
  },
  {
   "cell_type": "code",
   "execution_count": 280,
   "id": "accompanied-despite",
   "metadata": {},
   "outputs": [],
   "source": [
    "# k - количество кластеров\n",
    "def mean_sq_cluster_cohesion(k, centroids, clusters):\n",
    "    p_total = 0\n",
    "\n",
    "    for i in range(k):\n",
    "        for el in clusters[i]:\n",
    "            p = np.linalg.norm((el - centroids[i]))\n",
    "            p_total+=p\n",
    "            \n",
    "    mean_sq_cluster_cohesion = 1/k * p_total**2\n",
    "    \n",
    "    return mean_sq_cluster_cohesion\n",
    "    #print(p_total)\n",
    "    "
   ]
  },
  {
   "cell_type": "code",
   "execution_count": 281,
   "id": "stopped-prediction",
   "metadata": {},
   "outputs": [],
   "source": [
    "k = 3\n",
    "centroids, clusters = kmeans(X, k, max_iterations, min_distance)\n"
   ]
  },
  {
   "cell_type": "code",
   "execution_count": 282,
   "id": "extended-tanzania",
   "metadata": {},
   "outputs": [
    {
     "data": {
      "text/plain": [
       "23825.135834480683"
      ]
     },
     "execution_count": 282,
     "metadata": {},
     "output_type": "execute_result"
    }
   ],
   "source": [
    "# определим максимальное количество итераций\n",
    "max_iterations = 1\n",
    "\n",
    "# и минимальное расстояние между центроидами до пересчета и после него, при котором нужно остановить алгоритм\n",
    "min_distance = 1e-4\n",
    "\n",
    "# сразу определим известное нам количество кластеров\n",
    "k = 3\n",
    "centroids, clusters = kmeans(X, k, max_iterations, min_distance)\n",
    "mean_sq_cluster_cohesion(k, centroids, clusters)"
   ]
  },
  {
   "cell_type": "code",
   "execution_count": 283,
   "id": "improving-filling",
   "metadata": {},
   "outputs": [],
   "source": [
    "number_of_clusters = [i for i in range(1,11)]\n",
    "def elbow_method(clusters):\n",
    "    metrics = []\n",
    "    for i in number_of_clusters:\n",
    "        centroids, clusters = kmeans(X, i, max_iterations, min_distance)\n",
    "        metric = mean_sq_cluster_cohesion(i, centroids, clusters)\n",
    "        metrics.append(metric)\n",
    "    return metrics"
   ]
  },
  {
   "cell_type": "code",
   "execution_count": 284,
   "id": "emerging-gallery",
   "metadata": {},
   "outputs": [
    {
     "data": {
      "text/plain": [
       "[704871.2041554427,\n",
       " 39176.595902028355,\n",
       " 23825.135834480683,\n",
       " 16033.225752154234,\n",
       " 6821.800745964522,\n",
       " 3430.031972592825,\n",
       " 2802.5386657121394,\n",
       " 2426.929353819233,\n",
       " 1227.6044586960898,\n",
       " 727.0254404058105]"
      ]
     },
     "execution_count": 284,
     "metadata": {},
     "output_type": "execute_result"
    }
   ],
   "source": [
    "elbow_method(number_of_clusters)"
   ]
  },
  {
   "cell_type": "code",
   "execution_count": 285,
   "id": "herbal-recorder",
   "metadata": {},
   "outputs": [
    {
     "data": {
      "image/png": "[encoded data removed]",
      "text/plain": [
       "<Figure size 720x288 with 1 Axes>"
      ]
     },
     "metadata": {
      "needs_background": "light"
     },
     "output_type": "display_data"
    }
   ],
   "source": [
    "plt.figure(figsize = (10,4))\n",
    "plt.plot(number_of_clusters, elbow_method(number_of_clusters), 'go-')\n",
    "plt.xlabel('Number of Clusters')\n",
    "plt.ylabel('Metric - mean squared cluster cohesion')\n",
    "plt.title('Elbow Method')\n",
    "\n",
    "plt.show()"
   ]
  },
  {
   "cell_type": "markdown",
   "id": "embedded-hacker",
   "metadata": {},
   "source": [
    "Заметен \"загиб локтя\" при количестве кластеров = 2"
   ]
  },
  {
   "cell_type": "code",
   "execution_count": null,
   "id": "understood-audit",
   "metadata": {},
   "outputs": [],
   "source": []
  }
 ],
 "metadata": {
  "kernelspec": {
   "display_name": "Python 3",
   "language": "python",
   "name": "python3"
  },
  "language_info": {
   "codemirror_mode": {
    "name": "ipython",
    "version": 3
   },
   "file_extension": ".py",
   "mimetype": "text/x-python",
   "name": "python",
   "nbconvert_exporter": "python",
   "pygments_lexer": "ipython3",
   "version": "3.9.2"
  }
 },
 "nbformat": 4,
 "nbformat_minor": 5
}
