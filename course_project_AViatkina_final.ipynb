{
 "cells": [
  {
   "cell_type": "markdown",
   "id": "weekly-venice",
   "metadata": {},
   "source": [
    "## Курсовой проект \"Алгоритмы анализа данных\"  \n",
    "  \n",
    "#### Задача Регрессии  - предсказать средний балл на экзамене по математике, который получают ученики репетиторов из датасета test.csv.   \n",
    "\n",
    "#### Даны два датасета: train.csv (содержит признаки и целевую переменную) и test.csv (только признаки).\n",
    "\n",
    "Можно использовать ограниченное количество импортированных библиотек:"
   ]
  },
  {
   "cell_type": "code",
   "execution_count": 23,
   "id": "recreational-decade",
   "metadata": {},
   "outputs": [],
   "source": [
    "import numpy as np\n",
    "import pandas as pd\n",
    "from sklearn.model_selection import train_test_split\n",
    "import matplotlib.pyplot as plt\n",
    "import seaborn as sns\n",
    "\n",
    "#дополнительно отключу предупреждения\n",
    "import warnings\n",
    "warnings.filterwarnings('ignore')"
   ]
  },
  {
   "cell_type": "markdown",
   "id": "spanish-crossing",
   "metadata": {},
   "source": [
    "#### Метрика - коэффициент детерминации R2 "
   ]
  },
  {
   "cell_type": "code",
   "execution_count": 24,
   "id": "natural-ordinary",
   "metadata": {},
   "outputs": [],
   "source": [
    "def calc_r2_score(true, pred):\n",
    "    r2 = 1 - (np.sum((true-pred)**2)/np.sum((true - np.mean(true))**2))\n",
    "    return r2"
   ]
  },
  {
   "cell_type": "code",
   "execution_count": 25,
   "id": "ultimate-regression",
   "metadata": {},
   "outputs": [],
   "source": [
    "def evaluate_model(X_train, y_train, X_test, y_test, model):\n",
    "    model.fit(X_train, y_train)\n",
    "    y_train_pred = model.predict(X_train)\n",
    "    y_test_pred = model.predict(X_test)\n",
    "    r2_train = 1 - (np.sum((y_train-y_train_pred)**2)/np.sum((y_train - np.mean(y_train))**2))\n",
    "    r2_test = 1 - (np.sum((y_test-y_test_pred)**2)/np.sum((y_test - np.mean(y_test))**2))\n",
    "    print(f'R2 score train: {r2_train}, R2 score test: {r2_test}')"
   ]
  },
  {
   "cell_type": "markdown",
   "id": "ignored-wrist",
   "metadata": {},
   "source": [
    "#### Загрузим данные"
   ]
  },
  {
   "cell_type": "code",
   "execution_count": 26,
   "id": "white-cooling",
   "metadata": {},
   "outputs": [],
   "source": [
    "TRAIN_DATASET_PATH = './train.csv'\n",
    "TEST_DATASET_PATH = './test.csv'"
   ]
  },
  {
   "cell_type": "code",
   "execution_count": 27,
   "id": "after-sheet",
   "metadata": {},
   "outputs": [],
   "source": [
    "df_train = pd.read_csv(TRAIN_DATASET_PATH)\n",
    "df_test = pd.read_csv(TEST_DATASET_PATH)"
   ]
  },
  {
   "cell_type": "code",
   "execution_count": 28,
   "id": "sorted-suggestion",
   "metadata": {},
   "outputs": [
    {
     "data": {
      "text/html": [
       "<div>\n",
       "<style scoped>\n",
       "    .dataframe tbody tr th:only-of-type {\n",
       "        vertical-align: middle;\n",
       "    }\n",
       "\n",
       "    .dataframe tbody tr th {\n",
       "        vertical-align: top;\n",
       "    }\n",
       "\n",
       "    .dataframe thead th {\n",
       "        text-align: right;\n",
       "    }\n",
       "</style>\n",
       "<table border=\"1\" class=\"dataframe\">\n",
       "  <thead>\n",
       "    <tr style=\"text-align: right;\">\n",
       "      <th></th>\n",
       "      <th>Id</th>\n",
       "      <th>age</th>\n",
       "      <th>years_of_experience</th>\n",
       "      <th>lesson_price</th>\n",
       "      <th>qualification</th>\n",
       "      <th>physics</th>\n",
       "      <th>chemistry</th>\n",
       "      <th>biology</th>\n",
       "      <th>english</th>\n",
       "      <th>geography</th>\n",
       "      <th>history</th>\n",
       "      <th>mean_exam_points</th>\n",
       "    </tr>\n",
       "  </thead>\n",
       "  <tbody>\n",
       "    <tr>\n",
       "      <th>0</th>\n",
       "      <td>0</td>\n",
       "      <td>40.0</td>\n",
       "      <td>0.0</td>\n",
       "      <td>1400.0</td>\n",
       "      <td>1.0</td>\n",
       "      <td>1.0</td>\n",
       "      <td>0.0</td>\n",
       "      <td>0.0</td>\n",
       "      <td>0.0</td>\n",
       "      <td>1.0</td>\n",
       "      <td>0.0</td>\n",
       "      <td>61</td>\n",
       "    </tr>\n",
       "    <tr>\n",
       "      <th>1</th>\n",
       "      <td>1</td>\n",
       "      <td>48.0</td>\n",
       "      <td>4.0</td>\n",
       "      <td>2850.0</td>\n",
       "      <td>3.0</td>\n",
       "      <td>1.0</td>\n",
       "      <td>0.0</td>\n",
       "      <td>0.0</td>\n",
       "      <td>0.0</td>\n",
       "      <td>0.0</td>\n",
       "      <td>0.0</td>\n",
       "      <td>76</td>\n",
       "    </tr>\n",
       "    <tr>\n",
       "      <th>2</th>\n",
       "      <td>2</td>\n",
       "      <td>39.0</td>\n",
       "      <td>0.0</td>\n",
       "      <td>1200.0</td>\n",
       "      <td>1.0</td>\n",
       "      <td>0.0</td>\n",
       "      <td>0.0</td>\n",
       "      <td>0.0</td>\n",
       "      <td>0.0</td>\n",
       "      <td>0.0</td>\n",
       "      <td>0.0</td>\n",
       "      <td>53</td>\n",
       "    </tr>\n",
       "    <tr>\n",
       "      <th>3</th>\n",
       "      <td>3</td>\n",
       "      <td>46.0</td>\n",
       "      <td>5.0</td>\n",
       "      <td>1400.0</td>\n",
       "      <td>1.0</td>\n",
       "      <td>0.0</td>\n",
       "      <td>0.0</td>\n",
       "      <td>0.0</td>\n",
       "      <td>0.0</td>\n",
       "      <td>0.0</td>\n",
       "      <td>0.0</td>\n",
       "      <td>54</td>\n",
       "    </tr>\n",
       "    <tr>\n",
       "      <th>4</th>\n",
       "      <td>4</td>\n",
       "      <td>43.0</td>\n",
       "      <td>1.0</td>\n",
       "      <td>1500.0</td>\n",
       "      <td>1.0</td>\n",
       "      <td>0.0</td>\n",
       "      <td>0.0</td>\n",
       "      <td>0.0</td>\n",
       "      <td>0.0</td>\n",
       "      <td>0.0</td>\n",
       "      <td>0.0</td>\n",
       "      <td>57</td>\n",
       "    </tr>\n",
       "  </tbody>\n",
       "</table>\n",
       "</div>"
      ],
      "text/plain": [
       "   Id   age  years_of_experience  lesson_price  qualification  physics  \\\n",
       "0   0  40.0                  0.0        1400.0            1.0      1.0   \n",
       "1   1  48.0                  4.0        2850.0            3.0      1.0   \n",
       "2   2  39.0                  0.0        1200.0            1.0      0.0   \n",
       "3   3  46.0                  5.0        1400.0            1.0      0.0   \n",
       "4   4  43.0                  1.0        1500.0            1.0      0.0   \n",
       "\n",
       "   chemistry  biology  english  geography  history  mean_exam_points  \n",
       "0        0.0      0.0      0.0        1.0      0.0                61  \n",
       "1        0.0      0.0      0.0        0.0      0.0                76  \n",
       "2        0.0      0.0      0.0        0.0      0.0                53  \n",
       "3        0.0      0.0      0.0        0.0      0.0                54  \n",
       "4        0.0      0.0      0.0        0.0      0.0                57  "
      ]
     },
     "execution_count": 28,
     "metadata": {},
     "output_type": "execute_result"
    }
   ],
   "source": [
    "# Изучим внешний вид данных\n",
    "\n",
    "df_train.head(5)"
   ]
  },
  {
   "cell_type": "code",
   "execution_count": 29,
   "id": "important-relationship",
   "metadata": {},
   "outputs": [
    {
     "data": {
      "text/html": [
       "<div>\n",
       "<style scoped>\n",
       "    .dataframe tbody tr th:only-of-type {\n",
       "        vertical-align: middle;\n",
       "    }\n",
       "\n",
       "    .dataframe tbody tr th {\n",
       "        vertical-align: top;\n",
       "    }\n",
       "\n",
       "    .dataframe thead th {\n",
       "        text-align: right;\n",
       "    }\n",
       "</style>\n",
       "<table border=\"1\" class=\"dataframe\">\n",
       "  <thead>\n",
       "    <tr style=\"text-align: right;\">\n",
       "      <th></th>\n",
       "      <th>Id</th>\n",
       "      <th>age</th>\n",
       "      <th>years_of_experience</th>\n",
       "      <th>lesson_price</th>\n",
       "      <th>qualification</th>\n",
       "      <th>physics</th>\n",
       "      <th>chemistry</th>\n",
       "      <th>biology</th>\n",
       "      <th>english</th>\n",
       "      <th>geography</th>\n",
       "      <th>history</th>\n",
       "    </tr>\n",
       "  </thead>\n",
       "  <tbody>\n",
       "    <tr>\n",
       "      <th>0</th>\n",
       "      <td>10000</td>\n",
       "      <td>46.0</td>\n",
       "      <td>3.0</td>\n",
       "      <td>1050.0</td>\n",
       "      <td>1.0</td>\n",
       "      <td>0.0</td>\n",
       "      <td>1.0</td>\n",
       "      <td>0.0</td>\n",
       "      <td>0.0</td>\n",
       "      <td>0.0</td>\n",
       "      <td>0.0</td>\n",
       "    </tr>\n",
       "    <tr>\n",
       "      <th>1</th>\n",
       "      <td>10001</td>\n",
       "      <td>43.0</td>\n",
       "      <td>3.0</td>\n",
       "      <td>1850.0</td>\n",
       "      <td>2.0</td>\n",
       "      <td>0.0</td>\n",
       "      <td>0.0</td>\n",
       "      <td>0.0</td>\n",
       "      <td>0.0</td>\n",
       "      <td>0.0</td>\n",
       "      <td>0.0</td>\n",
       "    </tr>\n",
       "    <tr>\n",
       "      <th>2</th>\n",
       "      <td>10002</td>\n",
       "      <td>52.0</td>\n",
       "      <td>1.0</td>\n",
       "      <td>1550.0</td>\n",
       "      <td>1.0</td>\n",
       "      <td>1.0</td>\n",
       "      <td>0.0</td>\n",
       "      <td>0.0</td>\n",
       "      <td>0.0</td>\n",
       "      <td>0.0</td>\n",
       "      <td>0.0</td>\n",
       "    </tr>\n",
       "    <tr>\n",
       "      <th>3</th>\n",
       "      <td>10003</td>\n",
       "      <td>57.0</td>\n",
       "      <td>6.0</td>\n",
       "      <td>2900.0</td>\n",
       "      <td>3.0</td>\n",
       "      <td>1.0</td>\n",
       "      <td>0.0</td>\n",
       "      <td>1.0</td>\n",
       "      <td>0.0</td>\n",
       "      <td>0.0</td>\n",
       "      <td>0.0</td>\n",
       "    </tr>\n",
       "    <tr>\n",
       "      <th>4</th>\n",
       "      <td>10004</td>\n",
       "      <td>44.0</td>\n",
       "      <td>4.0</td>\n",
       "      <td>3150.0</td>\n",
       "      <td>3.0</td>\n",
       "      <td>1.0</td>\n",
       "      <td>0.0</td>\n",
       "      <td>0.0</td>\n",
       "      <td>0.0</td>\n",
       "      <td>0.0</td>\n",
       "      <td>0.0</td>\n",
       "    </tr>\n",
       "  </tbody>\n",
       "</table>\n",
       "</div>"
      ],
      "text/plain": [
       "      Id   age  years_of_experience  lesson_price  qualification  physics  \\\n",
       "0  10000  46.0                  3.0        1050.0            1.0      0.0   \n",
       "1  10001  43.0                  3.0        1850.0            2.0      0.0   \n",
       "2  10002  52.0                  1.0        1550.0            1.0      1.0   \n",
       "3  10003  57.0                  6.0        2900.0            3.0      1.0   \n",
       "4  10004  44.0                  4.0        3150.0            3.0      1.0   \n",
       "\n",
       "   chemistry  biology  english  geography  history  \n",
       "0        1.0      0.0      0.0        0.0      0.0  \n",
       "1        0.0      0.0      0.0        0.0      0.0  \n",
       "2        0.0      0.0      0.0        0.0      0.0  \n",
       "3        0.0      1.0      0.0        0.0      0.0  \n",
       "4        0.0      0.0      0.0        0.0      0.0  "
      ]
     },
     "execution_count": 29,
     "metadata": {},
     "output_type": "execute_result"
    }
   ],
   "source": [
    "df_test.head(5)"
   ]
  },
  {
   "cell_type": "markdown",
   "id": "brutal-pipeline",
   "metadata": {},
   "source": [
    "Проверим на наличие пропусков:"
   ]
  },
  {
   "cell_type": "code",
   "execution_count": 30,
   "id": "concerned-proposal",
   "metadata": {},
   "outputs": [
    {
     "data": {
      "text/plain": [
       "Id                     0\n",
       "age                    0\n",
       "years_of_experience    0\n",
       "lesson_price           0\n",
       "qualification          0\n",
       "physics                0\n",
       "chemistry              0\n",
       "biology                0\n",
       "english                0\n",
       "geography              0\n",
       "history                0\n",
       "mean_exam_points       0\n",
       "dtype: int64"
      ]
     },
     "execution_count": 30,
     "metadata": {},
     "output_type": "execute_result"
    }
   ],
   "source": [
    "df_train.isna().sum()"
   ]
  },
  {
   "cell_type": "code",
   "execution_count": 31,
   "id": "lyric-third",
   "metadata": {},
   "outputs": [
    {
     "data": {
      "text/plain": [
       "Id                     0\n",
       "age                    0\n",
       "years_of_experience    0\n",
       "lesson_price           0\n",
       "qualification          0\n",
       "physics                0\n",
       "chemistry              0\n",
       "biology                0\n",
       "english                0\n",
       "geography              0\n",
       "history                0\n",
       "dtype: int64"
      ]
     },
     "execution_count": 31,
     "metadata": {},
     "output_type": "execute_result"
    }
   ],
   "source": [
    "df_test.isna().sum()"
   ]
  },
  {
   "cell_type": "markdown",
   "id": "internal-better",
   "metadata": {},
   "source": [
    "Видимых категориальных признаков, нуждающихся в перекодировке - нет"
   ]
  },
  {
   "cell_type": "code",
   "execution_count": 32,
   "id": "surprised-fields",
   "metadata": {},
   "outputs": [
    {
     "data": {
      "text/plain": [
       "10000"
      ]
     },
     "execution_count": 32,
     "metadata": {},
     "output_type": "execute_result"
    }
   ],
   "source": [
    "df_train['Id'].nunique()"
   ]
  },
  {
   "cell_type": "code",
   "execution_count": 33,
   "id": "accessory-pressure",
   "metadata": {},
   "outputs": [
    {
     "data": {
      "text/plain": [
       "10000"
      ]
     },
     "execution_count": 33,
     "metadata": {},
     "output_type": "execute_result"
    }
   ],
   "source": [
    "df_test['Id'].nunique()"
   ]
  },
  {
   "cell_type": "code",
   "execution_count": 34,
   "id": "responsible-smith",
   "metadata": {},
   "outputs": [],
   "source": [
    "# Т к признак Id - просто порядковый номер - уберем его из датасета, он бесполезен , а также может навредить модели\n",
    "df_train.drop('Id', axis = 1, inplace = True)\n",
    "df_test.drop('Id', axis = 1, inplace = True)"
   ]
  },
  {
   "cell_type": "code",
   "execution_count": 35,
   "id": "dated-problem",
   "metadata": {},
   "outputs": [
    {
     "data": {
      "text/plain": [
       "age                    float64\n",
       "years_of_experience    float64\n",
       "lesson_price           float64\n",
       "qualification          float64\n",
       "physics                float64\n",
       "chemistry              float64\n",
       "biology                float64\n",
       "english                float64\n",
       "geography              float64\n",
       "history                float64\n",
       "mean_exam_points         int64\n",
       "dtype: object"
      ]
     },
     "execution_count": 35,
     "metadata": {},
     "output_type": "execute_result"
    }
   ],
   "source": [
    "# Перепроверим типы данных\n",
    "df_train.dtypes"
   ]
  },
  {
   "cell_type": "code",
   "execution_count": 36,
   "id": "fatty-connection",
   "metadata": {},
   "outputs": [
    {
     "data": {
      "text/plain": [
       "age                    float64\n",
       "years_of_experience    float64\n",
       "lesson_price           float64\n",
       "qualification          float64\n",
       "physics                float64\n",
       "chemistry              float64\n",
       "biology                float64\n",
       "english                float64\n",
       "geography              float64\n",
       "history                float64\n",
       "dtype: object"
      ]
     },
     "execution_count": 36,
     "metadata": {},
     "output_type": "execute_result"
    }
   ],
   "source": [
    "df_test.dtypes"
   ]
  },
  {
   "cell_type": "markdown",
   "id": "descending-brain",
   "metadata": {},
   "source": [
    "**Целевая переменная - mean_exam_points**"
   ]
  },
  {
   "cell_type": "code",
   "execution_count": 37,
   "id": "entire-alfred",
   "metadata": {},
   "outputs": [
    {
     "data": {
      "image/png": "[encoded data removed]",
      "text/plain": [
       "<Figure size 432x288 with 1 Axes>"
      ]
     },
     "metadata": {
      "needs_background": "light"
     },
     "output_type": "display_data"
    }
   ],
   "source": [
    "df_train['mean_exam_points'].hist()\n",
    "plt.show()"
   ]
  },
  {
   "cell_type": "markdown",
   "id": "christian-papua",
   "metadata": {},
   "source": [
    "Распределение целевой переменной очень близко к нормальному"
   ]
  },
  {
   "cell_type": "code",
   "execution_count": 38,
   "id": "mechanical-thermal",
   "metadata": {},
   "outputs": [
    {
     "data": {
      "text/plain": [
       "Index(['age', 'years_of_experience', 'lesson_price', 'qualification',\n",
       "       'physics', 'chemistry', 'biology', 'english', 'geography', 'history',\n",
       "       'mean_exam_points'],\n",
       "      dtype='object')"
      ]
     },
     "execution_count": 38,
     "metadata": {},
     "output_type": "execute_result"
    }
   ],
   "source": [
    "df_train.columns"
   ]
  },
  {
   "cell_type": "code",
   "execution_count": 39,
   "id": "fallen-legislature",
   "metadata": {},
   "outputs": [
    {
     "data": {
      "text/html": [
       "<div>\n",
       "<style scoped>\n",
       "    .dataframe tbody tr th:only-of-type {\n",
       "        vertical-align: middle;\n",
       "    }\n",
       "\n",
       "    .dataframe tbody tr th {\n",
       "        vertical-align: top;\n",
       "    }\n",
       "\n",
       "    .dataframe thead th {\n",
       "        text-align: right;\n",
       "    }\n",
       "</style>\n",
       "<table border=\"1\" class=\"dataframe\">\n",
       "  <thead>\n",
       "    <tr style=\"text-align: right;\">\n",
       "      <th></th>\n",
       "      <th>age_</th>\n",
       "      <th>years_of_experience</th>\n",
       "      <th>lesson_price</th>\n",
       "      <th>qualification</th>\n",
       "      <th>physics</th>\n",
       "      <th>chemistry</th>\n",
       "      <th>biology</th>\n",
       "      <th>english</th>\n",
       "      <th>geography</th>\n",
       "      <th>history</th>\n",
       "    </tr>\n",
       "  </thead>\n",
       "  <tbody>\n",
       "    <tr>\n",
       "      <th>0</th>\n",
       "      <td>46</td>\n",
       "      <td>11</td>\n",
       "      <td>74</td>\n",
       "      <td>4</td>\n",
       "      <td>2</td>\n",
       "      <td>2</td>\n",
       "      <td>2</td>\n",
       "      <td>2</td>\n",
       "      <td>2</td>\n",
       "      <td>2</td>\n",
       "    </tr>\n",
       "  </tbody>\n",
       "</table>\n",
       "</div>"
      ],
      "text/plain": [
       "   age_  years_of_experience  lesson_price  qualification  physics  chemistry  \\\n",
       "0    46                   11            74              4        2          2   \n",
       "\n",
       "   biology  english  geography  history  \n",
       "0        2        2          2        2  "
      ]
     },
     "metadata": {},
     "output_type": "display_data"
    },
    {
     "data": {
      "text/html": [
       "<div>\n",
       "<style scoped>\n",
       "    .dataframe tbody tr th:only-of-type {\n",
       "        vertical-align: middle;\n",
       "    }\n",
       "\n",
       "    .dataframe tbody tr th {\n",
       "        vertical-align: top;\n",
       "    }\n",
       "\n",
       "    .dataframe thead th {\n",
       "        text-align: right;\n",
       "    }\n",
       "</style>\n",
       "<table border=\"1\" class=\"dataframe\">\n",
       "  <thead>\n",
       "    <tr style=\"text-align: right;\">\n",
       "      <th></th>\n",
       "      <th>age_</th>\n",
       "      <th>years_of_experience</th>\n",
       "      <th>lesson_price</th>\n",
       "      <th>qualification</th>\n",
       "      <th>physics</th>\n",
       "      <th>chemistry</th>\n",
       "      <th>biology</th>\n",
       "      <th>english</th>\n",
       "      <th>geography</th>\n",
       "      <th>history</th>\n",
       "    </tr>\n",
       "  </thead>\n",
       "  <tbody>\n",
       "    <tr>\n",
       "      <th>0</th>\n",
       "      <td>46</td>\n",
       "      <td>11</td>\n",
       "      <td>72</td>\n",
       "      <td>4</td>\n",
       "      <td>2</td>\n",
       "      <td>2</td>\n",
       "      <td>2</td>\n",
       "      <td>2</td>\n",
       "      <td>2</td>\n",
       "      <td>2</td>\n",
       "    </tr>\n",
       "  </tbody>\n",
       "</table>\n",
       "</div>"
      ],
      "text/plain": [
       "   age_  years_of_experience  lesson_price  qualification  physics  chemistry  \\\n",
       "0    46                   11            72              4        2          2   \n",
       "\n",
       "   biology  english  geography  history  \n",
       "0        2        2          2        2  "
      ]
     },
     "metadata": {},
     "output_type": "display_data"
    }
   ],
   "source": [
    "# Изучим количество уникальных значений каждого признака\n",
    "unique_train = pd.DataFrame({'age_': [df_train['age'].nunique()],\n",
    "                    'years_of_experience': [df_train['years_of_experience'].nunique()],\n",
    "                      'lesson_price':[df_train['lesson_price'].nunique()],\n",
    "                      'qualification':[df_train['qualification'].nunique()],\n",
    "                      'physics':[df_train['physics'].nunique()],\n",
    "                      'chemistry':[df_train['chemistry'].nunique()],\n",
    "                      'biology': [df_train['biology'].nunique()],\n",
    "                      'english': [df_train['english'].nunique()],\n",
    "                      'geography':[df_train['geography'].nunique()],\n",
    "                      'history': [df_train['history'].nunique()]})\n",
    "\n",
    "unique_test = pd.DataFrame({'age_': [df_test['age'].nunique()],\n",
    "                    'years_of_experience': [df_test['years_of_experience'].nunique()],\n",
    "                      'lesson_price':[df_test['lesson_price'].nunique()],\n",
    "                      'qualification':[df_test['qualification'].nunique()],\n",
    "                      'physics':[df_test['physics'].nunique()],\n",
    "                      'chemistry':[df_test['chemistry'].nunique()],\n",
    "                      'biology': [df_test['biology'].nunique()],\n",
    "                      'english': [df_test['english'].nunique()],\n",
    "                      'geography':[df_test['geography'].nunique()],\n",
    "                      'history': [df_test['history'].nunique()]})\n",
    "display(unique_train, unique_test)"
   ]
  },
  {
   "cell_type": "markdown",
   "id": "spectacular-southwest",
   "metadata": {},
   "source": [
    "Изучим признаки с количество уникальных значений более 2-х на наличие выбросов"
   ]
  },
  {
   "cell_type": "code",
   "execution_count": 40,
   "id": "postal-therapy",
   "metadata": {},
   "outputs": [
    {
     "data": {
      "image/png": "[encoded data removed]",
      "text/plain": [
       "<Figure size 720x360 with 4 Axes>"
      ]
     },
     "metadata": {
      "needs_background": "light"
     },
     "output_type": "display_data"
    }
   ],
   "source": [
    "# 'age', 'years_of_experience', 'lesson_price', 'qualification'\n",
    "fig, ax = plt.subplots(2,2)\n",
    "fig.set_size_inches(10,5)\n",
    "ax[0,0].hist(df_train['age'], color='red', alpha = 0.5)\n",
    "ax[0,0].hist(df_test['age'], color='lightblue', alpha = 0.5)\n",
    "ax[0,0].set_title('age')\n",
    "\n",
    "ax[0,1].hist(df_train['years_of_experience'], color='red', alpha = 0.5)\n",
    "ax[0,1].hist(df_test['years_of_experience'], color='lightblue', alpha = 0.5)\n",
    "ax[0,1].set_title('years_of_experience')\n",
    "\n",
    "ax[1,0].hist(df_train['lesson_price'], color='red', alpha = 0.5)\n",
    "ax[1,0].hist(df_test['lesson_price'], color='lightblue', alpha = 0.5)\n",
    "ax[1,0].set_title('lesson_price')\n",
    "\n",
    "ax[1,1].hist(df_train['qualification'], color='red', alpha = 0.5)\n",
    "ax[1,1].hist(df_test['qualification'], color='lightblue', alpha = 0.5)\n",
    "ax[1,1].set_title('qualification')\n",
    "\n",
    "plt.subplots_adjust(hspace = 0.5) #добавили вертикальный отступ между графиками\n",
    "plt.show()"
   ]
  },
  {
   "cell_type": "markdown",
   "id": "elect-technology",
   "metadata": {},
   "source": [
    "В целом распределение признаков на тренировочном и тестовом наборах данных очень похоже. Есть небольшие расхождения только в признаке lesson_price. Видимых выбросов нет"
   ]
  },
  {
   "cell_type": "markdown",
   "id": "hollow-browse",
   "metadata": {},
   "source": [
    "**Изучим корреляцию между признаками**"
   ]
  },
  {
   "cell_type": "code",
   "execution_count": 41,
   "id": "dressed-services",
   "metadata": {},
   "outputs": [
    {
     "data": {
      "text/plain": [
       "<AxesSubplot:>"
      ]
     },
     "execution_count": 41,
     "metadata": {},
     "output_type": "execute_result"
    },
    {
     "data": {
      "image/png": "[encoded data removed]",
      "text/plain": [
       "<Figure size 720x360 with 2 Axes>"
      ]
     },
     "metadata": {
      "needs_background": "light"
     },
     "output_type": "display_data"
    }
   ],
   "source": [
    "corr_matrix = df_train.corr()\n",
    "corr_matrix = np.round(corr_matrix,2)\n",
    "plt.figure(figsize = (10,5))\n",
    "sns.heatmap(corr_matrix, annot=True, linewidth = 2, cmap = 'coolwarm')"
   ]
  },
  {
   "cell_type": "code",
   "execution_count": 42,
   "id": "affiliated-runner",
   "metadata": {},
   "outputs": [],
   "source": [
    "# Проведем стандартизацию:\n",
    "def normalize(X):\n",
    "    x_max = X.max(axis=0)\n",
    "    x_min = X.std(axis=0)\n",
    "    new_X = (X - x_min) / (x_max-x_min)\n",
    "    return new_X"
   ]
  },
  {
   "cell_type": "code",
   "execution_count": 43,
   "id": "capable-transparency",
   "metadata": {},
   "outputs": [],
   "source": [
    "#df_norm = data_train.copy()"
   ]
  },
  {
   "cell_type": "code",
   "execution_count": 44,
   "id": "corporate-circumstances",
   "metadata": {},
   "outputs": [],
   "source": [
    "#df_norm['age'] = normalize(df_norm['age'])\n",
    "#df_norm['years_of_experience'] = normalize(df_norm['years_of_experience'])\n",
    "#df_norm['qualification'] = normalize(df_norm['qualification'])\n",
    "#df_norm['lesson_price'] = normalize(df_norm['lesson_price'])\n",
    "#df_norm['qualification * years_of_experience'] = normalize(df_norm['qualification * years_of_experience'])\n"
   ]
  },
  {
   "cell_type": "markdown",
   "id": "friendly-peace",
   "metadata": {},
   "source": [
    "Поскольку решили использовать модель основанную на решающих деревьях, машстабировать признаки не будем"
   ]
  },
  {
   "cell_type": "code",
   "execution_count": 45,
   "id": "educational-shopping",
   "metadata": {},
   "outputs": [],
   "source": [
    "#Добавим новые признаки:\n",
    "\n",
    "# 1) общая квалификация\n",
    "df_train['qualification * years_of_experience'] = df_train['qualification'] * df_train['years_of_experience']\n",
    "df_test['qualification * years_of_experience'] = df_test['qualification'] * df_test['years_of_experience']\n",
    "\n",
    "# 2) с какого возраста преподает\n",
    "df_train['teaching_since'] = df_train['age'] - df_train['years_of_experience']\n",
    "df_test['teaching_since'] = df_test['age'] - df_test['years_of_experience']\n",
    "\n",
    "#3) соотношение качества и цены\n",
    "df_train['ratio quality/price'] = df_train['qualification']/df_train['lesson_price']\n",
    "df_test['ratio quality/price'] = df_test['qualification']/df_test['lesson_price']"
   ]
  },
  {
   "cell_type": "code",
   "execution_count": 46,
   "id": "painful-floating",
   "metadata": {},
   "outputs": [
    {
     "data": {
      "text/plain": [
       "Index(['age', 'years_of_experience', 'lesson_price', 'qualification',\n",
       "       'physics', 'chemistry', 'biology', 'english', 'geography', 'history',\n",
       "       'mean_exam_points', 'qualification * years_of_experience',\n",
       "       'teaching_since', 'ratio quality/price'],\n",
       "      dtype='object')"
      ]
     },
     "execution_count": 46,
     "metadata": {},
     "output_type": "execute_result"
    }
   ],
   "source": [
    "df_train.columns"
   ]
  },
  {
   "cell_type": "code",
   "execution_count": 47,
   "id": "separated-weather",
   "metadata": {},
   "outputs": [],
   "source": [
    "FINAL_FEATURE_NAMES = ['age',\n",
    "                       'years_of_experience',\n",
    "                       'lesson_price', \n",
    "                       'qualification', \n",
    "                       'physics', \n",
    "                       #'chemistry', \n",
    "                       #'biology', \n",
    "                       #'english', \n",
    "                       #'geography', \n",
    "                       #'history',\n",
    "                       #'qualification * years_of_experience',\n",
    "                       #'teaching_since', \n",
    "                       #'ratio quality/price'\n",
    "                      ]\n",
    "\n",
    "\n",
    "# Практика показала, что дополнительно созданные признаки не привдят к улучшению результата\n",
    "# Также оставим 1 бинарный признак, имеющий корреляцию с таргетом"
   ]
  },
  {
   "cell_type": "code",
   "execution_count": 48,
   "id": "caring-desktop",
   "metadata": {},
   "outputs": [],
   "source": [
    "#Попробуем добавить новый признак\n",
    "\n",
    "target = df_train['mean_exam_points']\n",
    "\n",
    "df_train.drop('mean_exam_points', axis = 1, inplace = True)\n",
    "X = df_train[FINAL_FEATURE_NAMES]\n",
    "y = target\n",
    "\n",
    "df_test = df_test[FINAL_FEATURE_NAMES]\n",
    "\n"
   ]
  },
  {
   "cell_type": "code",
   "execution_count": 49,
   "id": "italic-villa",
   "metadata": {},
   "outputs": [
    {
     "data": {
      "text/html": [
       "<div>\n",
       "<style scoped>\n",
       "    .dataframe tbody tr th:only-of-type {\n",
       "        vertical-align: middle;\n",
       "    }\n",
       "\n",
       "    .dataframe tbody tr th {\n",
       "        vertical-align: top;\n",
       "    }\n",
       "\n",
       "    .dataframe thead th {\n",
       "        text-align: right;\n",
       "    }\n",
       "</style>\n",
       "<table border=\"1\" class=\"dataframe\">\n",
       "  <thead>\n",
       "    <tr style=\"text-align: right;\">\n",
       "      <th></th>\n",
       "      <th>age</th>\n",
       "      <th>years_of_experience</th>\n",
       "      <th>lesson_price</th>\n",
       "      <th>qualification</th>\n",
       "      <th>physics</th>\n",
       "    </tr>\n",
       "  </thead>\n",
       "  <tbody>\n",
       "    <tr>\n",
       "      <th>0</th>\n",
       "      <td>40.0</td>\n",
       "      <td>0.0</td>\n",
       "      <td>1400.0</td>\n",
       "      <td>1.0</td>\n",
       "      <td>1.0</td>\n",
       "    </tr>\n",
       "    <tr>\n",
       "      <th>1</th>\n",
       "      <td>48.0</td>\n",
       "      <td>4.0</td>\n",
       "      <td>2850.0</td>\n",
       "      <td>3.0</td>\n",
       "      <td>1.0</td>\n",
       "    </tr>\n",
       "    <tr>\n",
       "      <th>2</th>\n",
       "      <td>39.0</td>\n",
       "      <td>0.0</td>\n",
       "      <td>1200.0</td>\n",
       "      <td>1.0</td>\n",
       "      <td>0.0</td>\n",
       "    </tr>\n",
       "    <tr>\n",
       "      <th>3</th>\n",
       "      <td>46.0</td>\n",
       "      <td>5.0</td>\n",
       "      <td>1400.0</td>\n",
       "      <td>1.0</td>\n",
       "      <td>0.0</td>\n",
       "    </tr>\n",
       "    <tr>\n",
       "      <th>4</th>\n",
       "      <td>43.0</td>\n",
       "      <td>1.0</td>\n",
       "      <td>1500.0</td>\n",
       "      <td>1.0</td>\n",
       "      <td>0.0</td>\n",
       "    </tr>\n",
       "  </tbody>\n",
       "</table>\n",
       "</div>"
      ],
      "text/plain": [
       "    age  years_of_experience  lesson_price  qualification  physics\n",
       "0  40.0                  0.0        1400.0            1.0      1.0\n",
       "1  48.0                  4.0        2850.0            3.0      1.0\n",
       "2  39.0                  0.0        1200.0            1.0      0.0\n",
       "3  46.0                  5.0        1400.0            1.0      0.0\n",
       "4  43.0                  1.0        1500.0            1.0      0.0"
      ]
     },
     "execution_count": 49,
     "metadata": {},
     "output_type": "execute_result"
    }
   ],
   "source": [
    "X.head(5)"
   ]
  },
  {
   "cell_type": "code",
   "execution_count": 50,
   "id": "decent-chicago",
   "metadata": {
    "scrolled": true
   },
   "outputs": [],
   "source": [
    "# Сделаем разбиение на обучающую и валидационную выборку в рамках тренировочного набора данных\n",
    "\n",
    "X_train, X_test, y_train, y_test = train_test_split(X, y, test_size=0.25, shuffle= True, stratify=y, random_state = 1)"
   ]
  },
  {
   "cell_type": "markdown",
   "id": "approximate-belle",
   "metadata": {},
   "source": [
    "### Обучение моделей"
   ]
  },
  {
   "cell_type": "code",
   "execution_count": 51,
   "id": "respiratory-newspaper",
   "metadata": {},
   "outputs": [],
   "source": [
    "# Переведем имеющиеся датасеты в массивы numpy.array\n",
    "\n",
    "#X_train = np.array(X_train)\n",
    "#y_train = np.array(y_train)\n",
    "\n",
    "#X_test = np.array(X_test)\n",
    "#y_test = np.array(y_test)\n",
    "\n",
    "X_train = X_train.values\n",
    "y_train = y_train.values\n",
    "\n",
    "X_test = X_test.values\n",
    "y_test=y_test.values"
   ]
  },
  {
   "cell_type": "code",
   "execution_count": 52,
   "id": "promotional-situation",
   "metadata": {},
   "outputs": [],
   "source": [
    "def mse_calc(y, y_pred):\n",
    "    mse = np.mean((y - y_pred) ** 2)\n",
    "    return mse"
   ]
  },
  {
   "cell_type": "markdown",
   "id": "assured-calendar",
   "metadata": {},
   "source": [
    "##### Градиентный бустинг - Gradient Boosting"
   ]
  },
  {
   "cell_type": "code",
   "execution_count": 53,
   "id": "violent-cursor",
   "metadata": {},
   "outputs": [],
   "source": [
    "# Реализуем класс узла\n",
    "\n",
    "class Node:\n",
    "    \n",
    "    def __init__(self, index, t, true_branch, false_branch):\n",
    "        self.index = index  # индекс признака, по которому ведется сравнение с порогом в этом узле\n",
    "        self.t = t  # значение порога\n",
    "        self.true_branch = true_branch  # поддерево, удовлетворяющее условию в узле\n",
    "        self.false_branch = false_branch  # поддерево, не удовлетворяющее условию в узле"
   ]
  },
  {
   "cell_type": "code",
   "execution_count": 54,
   "id": "alone-seeking",
   "metadata": {},
   "outputs": [],
   "source": [
    "class Leaf:\n",
    "    \n",
    "    def __init__(self, data, targets):\n",
    "        self.data = data\n",
    "        self.targets = targets\n",
    "        self.prediction = self.predict()\n",
    "        \n",
    "    def predict(self):\n",
    "        return self.targets.mean()\n",
    "        "
   ]
  },
  {
   "cell_type": "code",
   "execution_count": 55,
   "id": "nonprofit-cooler",
   "metadata": {},
   "outputs": [],
   "source": [
    "class RegressionTree:\n",
    "    \n",
    "    def __init__(self, max_depth = 50, depth = 0):\n",
    "        self.max_depth = max_depth\n",
    "        self.depth = depth\n",
    "        self.tree=None\n",
    "        \n",
    "    def criterion(self, targets):\n",
    "        # критерии и в задаче регрессии, и в задаче классификации должен стремиться к 0\n",
    "        return np.mean((targets - targets.mean())**2)\n",
    "    \n",
    "    def gain(self, left_targets, right_targets, root):\n",
    "\n",
    "        # доля выборки, ушедшая в левое поддерево\n",
    "        p = float(left_targets.shape[0]) / (left_targets.shape[0] + right_targets.shape[0])\n",
    "\n",
    "        return root - p * self.criterion(left_targets) - (1 - p) * self.criterion(right_targets) \n",
    "    \n",
    "    def get_subsample(self, len_sample):\n",
    "        # выводим индексы признаков\n",
    "        sample_indexes = list(range(len_sample))\n",
    "        \n",
    "        # В задаче регрессии рекомендовали создавать выборку = кол-во признаков/3\n",
    "        len_subsample = int(len_sample/3)\n",
    "\n",
    "        subsample = np.random.choice(sample_indexes, size=len_subsample, replace=False)\n",
    "\n",
    "        return subsample\n",
    "    \n",
    "    def split(self, data, targets, index, t):\n",
    "        \n",
    "        left = np.where(data[:, index] <= t) # t - порог вопроса\n",
    "        right = np.where(data[:, index] > t)\n",
    "        \n",
    "        true_data = data[left]\n",
    "        false_data = data[right]\n",
    "        true_targets = targets[left]\n",
    "        false_targets = targets[right]\n",
    "        \n",
    "        return true_data, false_data, true_targets, false_targets\n",
    "        \n",
    "    def find_best_split(self, data, targets):\n",
    "        \n",
    "        min_samples_leaf = 5\n",
    "        \n",
    "        root = self.criterion(targets)\n",
    "        best_gain = 0\n",
    "        best_t = None\n",
    "        best_index = None\n",
    "\n",
    "        n_features = data.shape[1]\n",
    "        subsample = self.get_subsample(n_features)\n",
    "        \n",
    "        for index in subsample:\n",
    "            # будем проверять только уникальные значения признака, исключая повторения\n",
    "            t_values = np.unique(data[:, index])\n",
    "\n",
    "            for t in t_values:\n",
    "                \n",
    "                true_data, false_data, true_targets, false_targets = self.split(data, targets, index, t)\n",
    "                \n",
    "                #  пропускаем разбиения, в которых в узле остается менее 5 объектов\n",
    "                if len(true_data) < min_samples_leaf or len(false_data) < min_samples_leaf:\n",
    "                    continue\n",
    "\n",
    "                current_gain = self.gain(true_targets, false_targets, root)\n",
    "\n",
    "                #  выбираем порог, на котором получается максимальный прирост качества\n",
    "                if current_gain > best_gain:\n",
    "                    best_gain, best_t, best_index = current_gain, t, index\n",
    "\n",
    "        return best_gain, best_t, best_index\n",
    "    \n",
    "    def build_tree(self, data, targets, depth, max_depth):\n",
    "        \n",
    "        gain, t, index = self.find_best_split(data, targets)\n",
    "        \n",
    "        if gain == 0 or depth > max_depth:\n",
    "            return Leaf(data, targets)\n",
    "        \n",
    "        depth +=1\n",
    "        \n",
    "        true_data, false_data, true_targets, false_targets = self.split(data, targets, index, t)\n",
    "        \n",
    "        true_branch = self.build_tree(true_data, true_targets, depth, max_depth)\n",
    "        false_branch = self.build_tree(false_data, false_targets, depth, max_depth)\n",
    "        \n",
    "        return Node(index, t, true_branch, false_branch)\n",
    "\n",
    "    def predict_object(self, obj, node):\n",
    "         \n",
    "        if isinstance(node, Leaf):\n",
    "            answer = node.prediction\n",
    "            return answer\n",
    "        if obj[node.index] <= node.t:\n",
    "            return self.predict_object(obj, node.true_branch)\n",
    "        else:\n",
    "            return self.predict_object(obj, node.false_branch)\n",
    "    \n",
    "    def predict(self, data):\n",
    "        pred_values = []\n",
    "        for obj in data:\n",
    "            prediction = self.predict_object(obj, self.tree)\n",
    "            pred_values.append(prediction)\n",
    "        return pred_values\n",
    "    \n",
    "    def fit(self, data, targets):\n",
    "        self.tree = self.build_tree(data, targets,  self.depth, self.max_depth)\n",
    "        return self\n",
    "            "
   ]
  },
  {
   "cell_type": "code",
   "execution_count": 56,
   "id": "painful-diabetes",
   "metadata": {},
   "outputs": [
    {
     "name": "stdout",
     "output_type": "stream",
     "text": [
      "R2 score train: 0.6021047365425782, R2 score test: 0.5775027120338205\n"
     ]
    }
   ],
   "source": [
    "regr_tree = RegressionTree(max_depth=10)\n",
    "evaluate_model(X_train, y_train, X_test, y_test, regr_tree)"
   ]
  },
  {
   "cell_type": "markdown",
   "id": "better-influence",
   "metadata": {},
   "source": [
    "#### Реализуем градиентный бустинг"
   ]
  },
  {
   "cell_type": "code",
   "execution_count": 57,
   "id": "precise-correction",
   "metadata": {},
   "outputs": [],
   "source": [
    "class GradBoost:\n",
    "    \n",
    "    def __init__(self, n_trees, max_depth, eta):\n",
    "        self.n_trees = n_trees\n",
    "        self.max_depth = max_depth\n",
    "        self.eta = eta\n",
    "        self.trees = []\n",
    "\n",
    "    def residual(self, y, z):\n",
    "        return 2*(y - z)\n",
    "\n",
    "    def fit(self, X, y):\n",
    "        for i in range(self.n_trees):\n",
    "            tree = RegressionTree(max_depth = self.max_depth)\n",
    "\n",
    "            # первый алгоритм просто обучаем на выборке и добавляем в список\n",
    "            if len(self.trees) == 0:\n",
    "                # обучаем первое дерево на обучающей выборке\n",
    "                tree.fit(X, y)\n",
    "\n",
    "            else:\n",
    "                # Получим ответы на текущей композиции\n",
    "                targets = self.predict(X)\n",
    "\n",
    "                # алгоритмы начиная со второго обучаем на сдвиг\n",
    "                tree.fit(X, self.residual(y, targets))\n",
    "                \n",
    "            self.trees.append(tree)\n",
    "        return self.trees\n",
    "\n",
    "    def predict(self, X):\n",
    "        predictions = np.array([sum([self.eta * alg.predict([x])[0] for alg in self.trees]) for x in X])\n",
    "        return predictions"
   ]
  },
  {
   "cell_type": "code",
   "execution_count": 58,
   "id": "demonstrated-colony",
   "metadata": {},
   "outputs": [],
   "source": [
    "n_trees = 120\n",
    "max_depth = 5\n",
    "eta = 0.1\n",
    "\n",
    "\n",
    "gb_model = GradBoost(n_trees = n_trees, max_depth = max_depth, eta = eta)"
   ]
  },
  {
   "cell_type": "code",
   "execution_count": 59,
   "id": "collected-compound",
   "metadata": {},
   "outputs": [
    {
     "name": "stdout",
     "output_type": "stream",
     "text": [
      "R2 score train: 0.7080999020674826, R2 score test: 0.6430870445099295\n"
     ]
    }
   ],
   "source": [
    "evaluate_model(X_train, y_train, X_test, y_test, gb_model)"
   ]
  },
  {
   "cell_type": "markdown",
   "id": "understood-amber",
   "metadata": {},
   "source": [
    "#### Реализуем стохастический градиентный бустинг"
   ]
  },
  {
   "cell_type": "code",
   "execution_count": 60,
   "id": "saving-might",
   "metadata": {},
   "outputs": [],
   "source": [
    "class StohasticGradBoost:\n",
    "    \n",
    "    def __init__(self, n_trees, max_depth, eta, border):\n",
    "        self.n_trees = n_trees\n",
    "        self.max_depth = max_depth\n",
    "        self.eta = eta\n",
    "        self.border = border\n",
    "        self.trees = []\n",
    "\n",
    "    def residual(self, y, z):\n",
    "        return 2*(y - z)\n",
    "\n",
    "    def fit(self, X, y):\n",
    "        for i in range(self.n_trees):\n",
    "            # Выделим выборку для обучения дерева, выделив случайные индексы в размере border\n",
    "            sample_indices = np.random.randint(X.shape[0], size = int(X.shape[0]*self.border))\n",
    "            X_sampled = X[sample_indices]\n",
    "            y_sampled = y[sample_indices]\n",
    "            tree = RegressionTree(max_depth = self.max_depth)\n",
    "\n",
    "            # первый алгоритм просто обучаем на выборке и добавляем в список\n",
    "            if len(self.trees) == 0:\n",
    "                # обучаем первое дерево на обучающей выборке\n",
    "                tree.fit(X_sampled, y_sampled)\n",
    "\n",
    "            else:\n",
    "                # Получим ответы на текущей композиции\n",
    "                targets = self.predict(X_sampled)\n",
    "\n",
    "                # алгоритмы начиная со второго обучаем на сдвиг\n",
    "                tree.fit(X_sampled, self.residual(y_sampled, targets))\n",
    "                \n",
    "            self.trees.append(tree)\n",
    "        return self.trees\n",
    "\n",
    "    def predict(self, X):\n",
    "        predictions = np.array([sum([self.eta * alg.predict([x])[0] for alg in self.trees]) for x in X])\n",
    "        return predictions"
   ]
  },
  {
   "cell_type": "code",
   "execution_count": 61,
   "id": "educated-lounge",
   "metadata": {},
   "outputs": [],
   "source": [
    "n_trees = 70\n",
    "max_depth = 5\n",
    "eta = 0.08\n",
    "\n",
    "sgb_model = StohasticGradBoost(n_trees, max_depth, eta, border = 0.5)"
   ]
  },
  {
   "cell_type": "code",
   "execution_count": 62,
   "id": "surprising-spider",
   "metadata": {},
   "outputs": [
    {
     "name": "stdout",
     "output_type": "stream",
     "text": [
      "R2 score train: 0.6818133760777172, R2 score test: 0.642408356427578\n"
     ]
    }
   ],
   "source": [
    "evaluate_model(X_train, y_train, X_test, y_test, sgb_model)"
   ]
  },
  {
   "cell_type": "markdown",
   "id": "interstate-remains",
   "metadata": {},
   "source": [
    "#### Реализуем вариант стохастического градиентного бустинга с использованием бутстрапа"
   ]
  },
  {
   "cell_type": "code",
   "execution_count": 63,
   "id": "accurate-conservative",
   "metadata": {},
   "outputs": [],
   "source": [
    "class StohasticGradBoost_bootstrap:\n",
    "    \n",
    "    def __init__(self, n_trees, max_depth, eta):\n",
    "        self.n_trees = n_trees\n",
    "        self.max_depth = max_depth\n",
    "        self.eta = eta\n",
    "        self.trees = []\n",
    "\n",
    "    def residual(self, y, z):\n",
    "        return 2*(y - z)\n",
    "    \n",
    "    def bootstrap(self, X, y, N): # N -количество выборок\n",
    "        n_samples =len(range(X.shape[0]))\n",
    "        bootstrap = []\n",
    "        for i in range(N):\n",
    "            indices_for_b = np.random.randint(0, X.shape[0], size = n_samples)\n",
    "            X_b = X[indices_for_b]\n",
    "            y_b = y[indices_for_b]\n",
    "            bootstrap.append((X_b, y_b))\n",
    "        return bootstrap\n",
    "        \n",
    "\n",
    "    def fit(self, X, y):\n",
    "        \n",
    "        bootstrap = self.bootstrap(X, y, self.n_trees)\n",
    "        \n",
    "        for i in range(self.n_trees):\n",
    "            X_b_sample = bootstrap[i][0]\n",
    "            y_b_sample = bootstrap[i][1]\n",
    "            tree = RegressionTree(max_depth = self.max_depth)\n",
    "\n",
    "            # первый алгоритм просто обучаем на выборке и добавляем в список\n",
    "            if len(self.trees) == 0:\n",
    "                # обучаем первое дерево на обучающей выборке\n",
    "                tree.fit(X_b_sample, y_b_sample)\n",
    "\n",
    "            else:\n",
    "                # Получим ответы на текущей композиции\n",
    "                targets = self.predict(X_b_sample)\n",
    "\n",
    "                # алгоритмы начиная со второго обучаем на сдвиг\n",
    "                tree.fit(X_b_sample, self.residual(y_b_sample, targets))\n",
    "                \n",
    "            self.trees.append(tree)\n",
    "        return self.trees\n",
    "\n",
    "    def predict(self, X):\n",
    "        predictions = np.array([sum([self.eta * alg.predict([x])[0] for alg in self.trees]) for x in X])\n",
    "        return predictions"
   ]
  },
  {
   "cell_type": "code",
   "execution_count": 64,
   "id": "arranged-truth",
   "metadata": {},
   "outputs": [],
   "source": [
    "n_trees = 75\n",
    "max_depth = 5\n",
    "eta = 0.09\n",
    "\n",
    "sgb_b_model = StohasticGradBoost_bootstrap(n_trees, max_depth, eta)"
   ]
  },
  {
   "cell_type": "code",
   "execution_count": 65,
   "id": "productive-clause",
   "metadata": {},
   "outputs": [
    {
     "name": "stdout",
     "output_type": "stream",
     "text": [
      "R2 score train: 0.687720220392293, R2 score test: 0.6421120143908053\n"
     ]
    }
   ],
   "source": [
    "evaluate_model(X_train, y_train, X_test, y_test, sgb_b_model)"
   ]
  },
  {
   "cell_type": "markdown",
   "id": "greater-competition",
   "metadata": {},
   "source": [
    "Повышая глубину и количество деревьев, получаем усиление переобучения модели, метрика на тренировочном наборе данных уверенно растет, в то время как на тестовых - остается неизменной или даже понижается( максимальный результат на тренировочной выборке был около 78, однако на тестовой - порядка 64-65.)"
   ]
  },
  {
   "cell_type": "markdown",
   "id": "married-synthesis",
   "metadata": {},
   "source": [
    "#### Сделаем итоговое предсказание на тестовых данных"
   ]
  },
  {
   "cell_type": "code",
   "execution_count": 87,
   "id": "dramatic-confirmation",
   "metadata": {},
   "outputs": [],
   "source": [
    "test= df_test.values"
   ]
  },
  {
   "cell_type": "code",
   "execution_count": 88,
   "id": "capital-graham",
   "metadata": {},
   "outputs": [
    {
     "data": {
      "text/plain": [
       "True"
      ]
     },
     "execution_count": 88,
     "metadata": {},
     "output_type": "execute_result"
    }
   ],
   "source": [
    "#Проверим, чтобы совпадали размеры наборов данных по количеству признаков\n",
    "test.shape[1] == X.shape[1]"
   ]
  },
  {
   "cell_type": "code",
   "execution_count": 89,
   "id": "stainless-coordination",
   "metadata": {},
   "outputs": [],
   "source": [
    "# Все варианты моделей градиентного бустинга дали похожие результаты, выберем последний\n",
    "predictions = sgb_b_model.predict(test)"
   ]
  },
  {
   "cell_type": "code",
   "execution_count": 90,
   "id": "objective-found",
   "metadata": {},
   "outputs": [],
   "source": [
    "submit = pd.read_csv('sample_submission.csv')"
   ]
  },
  {
   "cell_type": "code",
   "execution_count": 91,
   "id": "casual-milan",
   "metadata": {},
   "outputs": [
    {
     "data": {
      "text/plain": [
       "Index(['Id', 'mean_exam_points'], dtype='object')"
      ]
     },
     "execution_count": 91,
     "metadata": {},
     "output_type": "execute_result"
    }
   ],
   "source": [
    "submit.columns"
   ]
  },
  {
   "cell_type": "code",
   "execution_count": 92,
   "id": "functioning-guard",
   "metadata": {},
   "outputs": [],
   "source": [
    "submit['mean_exam_points'] = predictions"
   ]
  },
  {
   "cell_type": "code",
   "execution_count": 93,
   "id": "chronic-nowhere",
   "metadata": {},
   "outputs": [],
   "source": [
    "submit[['Id', 'mean_exam_points']].to_csv('CP_AViatkina_sgb_model.csv', index=None)"
   ]
  }
 ],
 "metadata": {
  "kernelspec": {
   "display_name": "Python 3",
   "language": "python",
   "name": "python3"
  },
  "language_info": {
   "codemirror_mode": {
    "name": "ipython",
    "version": 3
   },
   "file_extension": ".py",
   "mimetype": "text/x-python",
   "name": "python",
   "nbconvert_exporter": "python",
   "pygments_lexer": "ipython3",
   "version": "3.9.2"
  }
 },
 "nbformat": 4,
 "nbformat_minor": 5
}
