{
 "cells": [
  {
   "cell_type": "code",
   "execution_count": 726,
   "id": "separated-legislature",
   "metadata": {},
   "outputs": [],
   "source": [
    "import numpy as np\n",
    "from sklearn import datasets"
   ]
  },
  {
   "cell_type": "code",
   "execution_count": 727,
   "id": "moral-bargain",
   "metadata": {
    "colab": {},
    "colab_type": "code",
    "id": "FeKFn2yb1To4"
   },
   "outputs": [],
   "source": [
    "# сгеренируем датасет \n",
    "X, y = datasets.make_classification(n_samples=100, n_features=4, n_informative=2,\n",
    "                                    n_redundant=0, n_classes=2, random_state=1)"
   ]
  },
  {
   "cell_type": "code",
   "execution_count": 728,
   "id": "spoken-working",
   "metadata": {
    "colab": {},
    "colab_type": "code",
    "id": "EEF9rWPNDnss"
   },
   "outputs": [],
   "source": [
    "def sigmoid(z):\n",
    "    res = 1 / (1 + np.exp(-z))\n",
    "    return res"
   ]
  },
  {
   "cell_type": "markdown",
   "id": "meaning-young",
   "metadata": {},
   "source": [
    "**Задание 1*** Измените функцию calc_logloss так, чтобы нули по возможности не попадали в np.log."
   ]
  },
  {
   "cell_type": "code",
   "execution_count": 729,
   "id": "quarterly-update",
   "metadata": {
    "colab": {},
    "colab_type": "code",
    "id": "qMR5pOA38dDw"
   },
   "outputs": [],
   "source": [
    "#поставим дополнительные верхние и нижние ограничения для предсказываемых значений близкие к 1 и к 0 соответственно\n",
    "\n",
    "def calc_logloss(y, y_pred):\n",
    "    y_pred = y_pred.astype(float) #переведем в формат float и заменим значения на близкие к ним\n",
    "    for i, n in enumerate(y_pred):\n",
    "        if n == 1:\n",
    "            y_pred[i]=0.99999\n",
    "        elif n == 0:\n",
    "            y_pred[i]=0.00001\n",
    "    err = - np.mean(y * np.log(y_pred) + (1.0 - y) * np.log(1.0 - y_pred))\n",
    "    return err"
   ]
  },
  {
   "cell_type": "code",
   "execution_count": 730,
   "id": "military-buddy",
   "metadata": {},
   "outputs": [
    {
     "data": {
      "text/plain": [
       "5.75646773251239"
      ]
     },
     "execution_count": 730,
     "metadata": {},
     "output_type": "execute_result"
    }
   ],
   "source": [
    "y1 = np.array([1, 0])\n",
    "y_pred1 = np.array([1, 1])\n",
    "\n",
    "\n",
    "calc_logloss(y1, y_pred1)"
   ]
  },
  {
   "cell_type": "markdown",
   "id": "occupational-alignment",
   "metadata": {},
   "source": [
    "**Задание 2.** Подберите аргументы функции eval_model для логистической регрессии таким образом, чтобы log loss был минимальным.\n"
   ]
  },
  {
   "cell_type": "code",
   "execution_count": 731,
   "id": "olympic-inflation",
   "metadata": {
    "colab": {},
    "colab_type": "code",
    "id": "qtgUN3LW-UIq"
   },
   "outputs": [],
   "source": [
    "def eval_model(X, y, iterations, eta=1e-4):\n",
    "    np.random.seed(42)\n",
    "    W = np.random.randn(X.shape[1])\n",
    "    n = X.shape[0]\n",
    "    \n",
    "    for i in range(iterations):\n",
    "        z = np.dot(X, W)\n",
    "        y_pred = sigmoid(z)\n",
    "        err = calc_logloss(y, y_pred)\n",
    "        \n",
    "        dQ = 1/n * X.T @ (y_pred - y)\n",
    "        W -= eta * dQ\n",
    "        if i % (iterations / 10) == 0:\n",
    "            print(f'Iteration: {i}, Weights: {W}, Error: {err}')\n",
    "    return W"
   ]
  },
  {
   "cell_type": "code",
   "execution_count": 732,
   "id": "attractive-messenger",
   "metadata": {
    "colab": {
     "base_uri": "https://localhost:8080/",
     "height": 190
    },
    "colab_type": "code",
    "id": "oqX7loklBmYZ",
    "outputId": "f4849295-1f14-40d8-c8f2-d1b002e130c5",
    "scrolled": true
   },
   "outputs": [
    {
     "name": "stdout",
     "output_type": "stream",
     "text": [
      "Iteration: 0, Weights: [ 0.49395269 -0.12861884  0.59236705  1.60232867], Error: 0.2839757862862511\n",
      "Iteration: 500, Weights: [ 1.20231792  0.42084834 -0.61841978  5.21690257], Error: 0.09061263152129193\n",
      "Iteration: 1000, Weights: [ 1.44869861  0.54190995 -0.80810902  5.89065942], Error: 0.08823059421456916\n",
      "Iteration: 1500, Weights: [ 1.57124945  0.60242104 -0.90464995  6.23859814], Error: 0.08761705713607278\n",
      "Iteration: 2000, Weights: [ 1.64227624  0.63750691 -0.96129163  6.44408142], Error: 0.08740576474734783\n",
      "Iteration: 2500, Weights: [ 1.68625983  0.65922832 -0.99662388  6.57270506], Error: 0.08732349624239091\n",
      "Iteration: 3000, Weights: [ 1.71447487  0.67315833 -1.01939324  6.6557635 ], Error: 0.08728931380716133\n",
      "Iteration: 3500, Weights: [ 1.73295366  0.68227941 -1.03434975  6.71039088], Error: 0.08727455986602291\n",
      "Iteration: 4000, Weights: [ 1.74521251  0.68832937 -1.04429128  6.74673078], Error: 0.0872680397703641\n",
      "Iteration: 4500, Weights: [ 1.75341231  0.69237567 -1.05094968  6.77108248], Error: 0.08726511457494374\n"
     ]
    },
    {
     "data": {
      "text/plain": [
       "array([ 1.75891766,  0.69509215, -1.05542402,  6.78745216])"
      ]
     },
     "execution_count": 732,
     "metadata": {},
     "output_type": "execute_result"
    }
   ],
   "source": [
    "W = eval_model(X, y, iterations= 5000, eta=5e-1)\n",
    "W"
   ]
  },
  {
   "cell_type": "markdown",
   "id": "cosmetic-afternoon",
   "metadata": {},
   "source": [
    "**Задание 3.** Создайте функцию calc_pred_proba, возвращающую предсказанную вероятность класса 1 (на вход подаются W, который уже посчитан функцией eval_model и X, на выходе - массив y_pred_proba).\n"
   ]
  },
  {
   "cell_type": "code",
   "execution_count": 733,
   "id": "three-surge",
   "metadata": {},
   "outputs": [],
   "source": [
    "def calc_pred_proba(W, X):\n",
    "    z = np.dot(X, W)\n",
    "    y_pred_proba = sigmoid(z)\n",
    "    \n",
    "    return y_pred_proba"
   ]
  },
  {
   "cell_type": "code",
   "execution_count": 734,
   "id": "chemical-country",
   "metadata": {},
   "outputs": [
    {
     "data": {
      "text/plain": [
       "array([6.40515487e-05, 1.81672444e-01, 7.12518377e-04, 1.25548188e-03,\n",
       "       8.29467561e-05, 9.62725675e-01, 9.99880070e-01, 9.98295797e-01,\n",
       "       9.96988336e-01, 8.87534075e-01, 9.97685609e-01, 2.56822853e-02,\n",
       "       5.86363903e-04, 9.63149594e-01, 5.32933358e-04, 3.61746198e-04,\n",
       "       9.99766906e-01, 1.24502149e-05, 1.53359328e-03, 9.99999776e-01,\n",
       "       4.68610122e-03, 1.28331205e-04, 4.66367878e-03, 9.99980927e-01,\n",
       "       9.79658953e-01, 9.99182922e-01, 6.49472917e-01, 9.99839634e-01,\n",
       "       1.27484581e-01, 4.06283001e-03, 1.55147643e-05, 9.23409976e-01,\n",
       "       9.99997640e-01, 7.68445049e-05, 1.92700247e-05, 9.70385559e-06,\n",
       "       9.98646642e-01, 9.99472797e-01, 3.39263185e-03, 7.37476582e-05,\n",
       "       8.82824252e-05, 9.99994721e-01, 9.99811089e-01, 9.13628602e-01,\n",
       "       1.03915771e-03, 1.12361884e-03, 9.69491748e-01, 2.99403612e-04,\n",
       "       9.96675635e-01, 1.43084634e-03, 8.57538589e-01, 9.98482707e-01,\n",
       "       9.99741725e-01, 7.78795031e-01, 9.99938988e-01, 9.99946587e-01,\n",
       "       9.99890591e-01, 4.60710199e-02, 7.78465231e-05, 9.98388357e-01,\n",
       "       5.74872297e-04, 9.06449688e-02, 1.46764963e-04, 2.34039324e-02,\n",
       "       1.39566524e-05, 9.98694924e-01, 9.41070073e-01, 6.95134030e-03,\n",
       "       9.84325369e-01, 3.61692030e-04, 9.99813550e-01, 3.01582799e-05,\n",
       "       9.95520258e-03, 9.87075866e-01, 9.99890208e-01, 7.03242775e-03,\n",
       "       4.14661936e-03, 4.63604314e-04, 1.98031491e-02, 9.99611395e-01,\n",
       "       9.73315414e-01, 9.99995306e-01, 1.86669423e-01, 9.08673084e-01,\n",
       "       9.99901461e-01, 5.35755499e-01, 9.99127370e-01, 9.99763423e-01,\n",
       "       2.72904787e-02, 1.53242100e-04, 9.99947531e-01, 7.81826957e-03,\n",
       "       1.16284367e-01, 8.23725323e-01, 2.22958533e-02, 1.17876671e-01,\n",
       "       9.99868417e-01, 1.55514403e-03, 7.99106085e-05, 9.88391031e-01])"
      ]
     },
     "execution_count": 734,
     "metadata": {},
     "output_type": "execute_result"
    }
   ],
   "source": [
    "calc_pred_proba(W, X)"
   ]
  },
  {
   "cell_type": "markdown",
   "id": "urban-lending",
   "metadata": {},
   "source": [
    "**Задание 4.** Создайте функцию calc_pred, возвращающую предсказанный класс (на вход подаются W, который уже посчитан функцией eval_model и X, на выходе - массив y_pred)."
   ]
  },
  {
   "cell_type": "code",
   "execution_count": 735,
   "id": "muslim-actress",
   "metadata": {},
   "outputs": [
    {
     "data": {
      "text/plain": [
       "array([0.])"
      ]
     },
     "execution_count": 735,
     "metadata": {},
     "output_type": "execute_result"
    }
   ],
   "source": [
    "y_pred_list = np.array([])\n",
    "np.append(y_pred_list, 1)\n",
    "np.append(y_pred_list, 0)"
   ]
  },
  {
   "cell_type": "code",
   "execution_count": 736,
   "id": "ahead-launch",
   "metadata": {},
   "outputs": [],
   "source": [
    "def calc_pred(W, X):\n",
    "    y_pred_list = []\n",
    "    z = np.dot(X, W)\n",
    "    y_pred_proba = sigmoid(z)\n",
    "    for i in y_pred_proba:\n",
    "        if i >=0.5:\n",
    "            y_pred_list.append(1)\n",
    "        elif i < 0.5:\n",
    "            y_pred_list.append(0)\n",
    "        elif i > 1 or i <0:\n",
    "            print('Error!')\n",
    "        y_pred = np.array(y_pred_list)\n",
    "    return y_pred\n"
   ]
  },
  {
   "cell_type": "code",
   "execution_count": 737,
   "id": "convinced-differential",
   "metadata": {},
   "outputs": [
    {
     "data": {
      "text/plain": [
       "\"\\ndef calc_pred(W, X, threshold):\\n    y_pred_list = []\\n    z = np.dot(X, W)\\n    y_pred_proba = sigmoid(z)\\n    for i in y_pred_proba:\\n        if i >=(threshold):\\n            y_pred = 1\\n        elif i < (threshold):\\n            y_pred = 0\\n        elif i > 1 or i <0 or threshold > 1 or threshold < 0:\\n            print('Error!')\\n        y_pred_list.append(y_pred)\\n    return y_pred_list\\n    \\n    \""
      ]
     },
     "execution_count": 737,
     "metadata": {},
     "output_type": "execute_result"
    }
   ],
   "source": [
    "#Еще один вариант реализации с указанием дополнительного параметра threshold\n",
    "'''\n",
    "def calc_pred(W, X, threshold):\n",
    "    y_pred_list = []\n",
    "    z = np.dot(X, W)\n",
    "    y_pred_proba = sigmoid(z)\n",
    "    for i in y_pred_proba:\n",
    "        if i >=(threshold):\n",
    "            y_pred = 1\n",
    "        elif i < (threshold):\n",
    "            y_pred = 0\n",
    "        elif i > 1 or i <0 or threshold > 1 or threshold < 0:\n",
    "            print('Error!')\n",
    "        y_pred_list.append(y_pred)\n",
    "    return y_pred_list\n",
    "    \n",
    "    '''"
   ]
  },
  {
   "cell_type": "code",
   "execution_count": 738,
   "id": "funny-profile",
   "metadata": {},
   "outputs": [
    {
     "data": {
      "text/plain": [
       "array([0, 0, 0, 0, 0, 1, 1, 1, 1, 1, 1, 0, 0, 1, 0, 0, 1, 0, 0, 1, 0, 0,\n",
       "       0, 1, 1, 1, 1, 1, 0, 0, 0, 1, 1, 0, 0, 0, 1, 1, 0, 0, 0, 1, 1, 1,\n",
       "       0, 0, 1, 0, 1, 0, 1, 1, 1, 1, 1, 1, 1, 0, 0, 1, 0, 0, 0, 0, 0, 1,\n",
       "       1, 0, 1, 0, 1, 0, 0, 1, 1, 0, 0, 0, 0, 1, 1, 1, 0, 1, 1, 1, 1, 1,\n",
       "       0, 0, 1, 0, 0, 1, 0, 0, 1, 0, 0, 1])"
      ]
     },
     "execution_count": 738,
     "metadata": {},
     "output_type": "execute_result"
    }
   ],
   "source": [
    "calc_pred(W, X)"
   ]
  },
  {
   "cell_type": "markdown",
   "id": "russian-newcastle",
   "metadata": {},
   "source": [
    "**Задание 5*.** Реализуйте функции для подсчета Accuracy, матрицы ошибок, точности и полноты, а также F1 score."
   ]
  },
  {
   "cell_type": "code",
   "execution_count": 739,
   "id": "realistic-pitch",
   "metadata": {},
   "outputs": [],
   "source": [
    "y_true = np.array([1, 1, 1, 1, 1, 1, 1, 1, 1, 1, 0, 0, 0, 0, 0, 0, 0, 0, 0, 0])\n",
    "y_pred = np.array([1, 1, 0, 0, 0, 1, 1, 1, 1, 0, 0, 0, 0, 0, 0, 1, 1, 1, 0, 1])"
   ]
  },
  {
   "cell_type": "code",
   "execution_count": 740,
   "id": "binary-origin",
   "metadata": {},
   "outputs": [],
   "source": [
    "def find_metrics(y_true, y_pred):\n",
    "    \n",
    "    # Создадим матрицу ошибок\n",
    "    conf_matrix = np.zeros([2,2])\n",
    "\n",
    "    # определим TP, FP, FN, TN\n",
    "    conf_matrix[0, 0] = TP = ((y_true == 1) & (y_pred == 1)).sum()\n",
    "    conf_matrix[0, 1] = FP = ((y_true == 0) & (y_pred == 1)).sum()\n",
    "    conf_matrix[1, 0] = FN = ((y_true == 1) & (y_pred == 0)).sum()\n",
    "    conf_matrix[1, 1] = TN = ((y_true == 0) & (y_pred == 0)).sum()\n",
    "    \n",
    "    # Рассчитаем метрики\n",
    "    acc = (TP+TN)/(TP+FP+FN+TN)\n",
    "    prec_0 = TP/(TP+FP)\n",
    "    prec_1 = FP/(TP+FP)\n",
    "    macroavg_prec = (prec_0+prec_1)/2\n",
    "    weigh_prec = ((y_pred == 0).sum()/len(y_pred)*prec_0) + ((y_pred == 1).sum()/len(y_pred)*prec_1)\n",
    "    \n",
    "    \n",
    "    rec_0 = TP/(TP+FN)\n",
    "    rec_1 = FP/(FP+TN)\n",
    "    macroavg_rec = (rec_0 + rec_1)/2\n",
    "    weigh_rec = ((y_pred == 0).sum()/len(y_pred)*rec_0) + ((y_pred == 1).sum()/len(y_pred)*rec_1)\n",
    "    \n",
    "    f1_0 = prec_0*rec_0/(prec_0+rec_0)\n",
    "    f1_1 = prec_1*rec_1/(prec_1+rec_1)\n",
    "    macroavg_f1 = (f1_0 + f1_1)/2\n",
    "    weigh_f1 = ((y_pred == 0).sum()/len(y_pred)*f1_0) + ((y_pred == 0).sum()/len(y_pred)*f1_1)\n",
    "    \n",
    "    # Выведем результат\n",
    "    print(f'Confusion_matrix:\\n{conf_matrix}'\n",
    "          f'accuracy: {acc} \\n\\npresicion_0 class: {prec_0} \\npresicion 1 class: {prec_1}'\n",
    "          f'\\n\\nmacroavg_presicion: {macroavg_prec} \\nweighted_precision: {weigh_prec}'\n",
    "          f' \\n\\nrecall 0 class: {rec_0} \\nrecall 1 class: {rec_1}, \\n\\nmacroavg_recall: {macroavg_rec} \\nweighted_recall: {weigh_rec}'\n",
    "          f'\\n\\nf1_score 0 class: {f1_0} \\nf1_score 1 class: {f1_1:.2f} \\n\\nmacroavg_f1_score: {macroavg_f1} \\nweighted_f1_score: {weigh_f1}')\n",
    "    "
   ]
  },
  {
   "cell_type": "code",
   "execution_count": 741,
   "id": "assigned-hearts",
   "metadata": {
    "scrolled": true
   },
   "outputs": [
    {
     "name": "stdout",
     "output_type": "stream",
     "text": [
      "Confusion_matrix:\n",
      "[[6. 4.]\n",
      " [4. 6.]]accuracy: 0.6 \n",
      "\n",
      "presicion_0 class: 0.6 \n",
      "presicion 1 class: 0.4\n",
      "\n",
      "macroavg_presicion: 0.5 \n",
      "weighted_precision: 0.5 \n",
      "\n",
      "recall 0 class: 0.6 \n",
      "recall 1 class: 0.4, \n",
      "\n",
      "macroavg_recall: 0.5 \n",
      "weighted_recall: 0.5\n",
      "\n",
      "f1_score 0 class: 0.3 \n",
      "f1_score 1 class: 0.20 \n",
      "\n",
      "macroavg_f1_score: 0.25 \n",
      "weighted_f1_score: 0.25\n"
     ]
    }
   ],
   "source": [
    "find_metrics(y_true, y_pred)"
   ]
  },
  {
   "cell_type": "markdown",
   "id": "joined-pasta",
   "metadata": {},
   "source": [
    "**Задание 6.** Могла ли модель переобучиться? Почему?"
   ]
  },
  {
   "cell_type": "markdown",
   "id": "considerable-imperial",
   "metadata": {},
   "source": [
    "Да, как и в случае линейной регрессии, разделяющая линия на обучающем датасете может слишком точно подстроиться под объекты и запомнить их расположение и тогда не сможет выдать хорошее предсказание на тесте"
   ]
  }
 ],
 "metadata": {
  "kernelspec": {
   "display_name": "Python 3",
   "language": "python",
   "name": "python3"
  },
  "language_info": {
   "codemirror_mode": {
    "name": "ipython",
    "version": 3
   },
   "file_extension": ".py",
   "mimetype": "text/x-python",
   "name": "python",
   "nbconvert_exporter": "python",
   "pygments_lexer": "ipython3",
   "version": "3.9.2"
  }
 },
 "nbformat": 4,
 "nbformat_minor": 5
}
