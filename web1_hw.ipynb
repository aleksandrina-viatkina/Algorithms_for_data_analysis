{
 "cells": [
  {
   "cell_type": "markdown",
   "id": "formed-cloud",
   "metadata": {},
   "source": [
    "#### Задание 1  \n",
    "Подберите скорость обучения (eta) и количество итераций"
   ]
  },
  {
   "cell_type": "code",
   "execution_count": 285,
   "id": "contemporary-honolulu",
   "metadata": {},
   "outputs": [],
   "source": [
    "import numpy as np"
   ]
  },
  {
   "cell_type": "code",
   "execution_count": 286,
   "id": "classified-muslim",
   "metadata": {},
   "outputs": [],
   "source": [
    "def calc_mse(y, y_pred):\n",
    "    err = np.mean((y - y_pred)**2)\n",
    "    return err"
   ]
  },
  {
   "cell_type": "code",
   "execution_count": 287,
   "id": "mobile-likelihood",
   "metadata": {},
   "outputs": [],
   "source": [
    "# Задача про балл на егэ в зависимости от стажа преподавателя\n",
    "X = np.array([[ 1,  1],\n",
    "              [ 1,  1],\n",
    "              [ 1,  2],\n",
    "              [ 1,  5],\n",
    "              [ 1,  3],\n",
    "              [ 1,  0],\n",
    "              [ 1,  5],\n",
    "              [ 1, 10],\n",
    "              [ 1,  1],\n",
    "              [ 1,  2]])\n",
    "y = [45, 55, 50, 55, 60, 35, 75, 80, 50, 60]"
   ]
  },
  {
   "cell_type": "code",
   "execution_count": 288,
   "id": "corresponding-locator",
   "metadata": {
    "scrolled": true
   },
   "outputs": [
    {
     "name": "stdout",
     "output_type": "stream",
     "text": [
      "Number of objects = 10        \n",
      "Learning rate = 0.01        \n",
      "Initial weights = [1.  0.5] \n",
      "\n",
      "Iteration #0: W_new = [2.08 4.27], MSE = 3047.75\n",
      "Iteration #200: W_new = [37.17493171  5.2427889 ], MSE = 73.76\n",
      "Iteration #400: W_new = [43.32551177  4.12747604], MSE = 45.41\n",
      "Iteration #600: W_new = [44.62336601  3.89213018], MSE = 44.06\n",
      "Iteration #800: W_new = [44.93664858  3.83532121], MSE = 43.98\n",
      "Iteration #1000: W_new = [45.02207971  3.8198296 ], MSE = 43.97\n",
      "Iteration #1200: W_new = [45.04810212  3.81511083], MSE = 43.97\n",
      "Iteration #1400: W_new = [45.0568656   3.81352171], MSE = 43.97\n",
      "Iteration #1600: W_new = [45.06009831  3.81293551], MSE = 43.97\n",
      "Iteration #1800: W_new = [45.06139358  3.81270063], MSE = 43.97\n",
      "Iteration #2000: W_new = [45.06195302  3.81259919], MSE = 43.97\n",
      "Iteration #2200: W_new = [45.06221167  3.81255228], MSE = 43.97\n",
      "Iteration #2400: W_new = [45.06233889  3.81252921], MSE = 43.97\n",
      "Iteration #2600: W_new = [45.06240508  3.81251721], MSE = 43.97\n",
      "Iteration #2800: W_new = [45.06244132  3.81251064], MSE = 43.97\n",
      "Iteration #3000: W_new = [45.0624621   3.81250687], MSE = 43.97\n",
      "Iteration #3200: W_new = [45.06247453  3.81250462], MSE = 43.97\n",
      "Iteration #3400: W_new = [45.06248225  3.81250322], MSE = 43.97\n",
      "Iteration #3600: W_new = [45.06248722  3.81250232], MSE = 43.97\n",
      "Iteration #3800: W_new = [45.06249052  3.81250172], MSE = 43.97\n",
      "Iteration #4000: W_new = [45.06249277  3.81250131], MSE = 43.97\n",
      "Iteration #4200: W_new = [45.06249435  3.81250102], MSE = 43.97\n",
      "Iteration #4400: W_new = [45.06249548  3.81250082], MSE = 43.97\n",
      "Iteration #4600: W_new = [45.06249632  3.81250067], MSE = 43.97\n",
      "Iteration #4800: W_new = [45.06249694  3.81250055], MSE = 43.97\n"
     ]
    }
   ],
   "source": [
    "n = X.shape[0]\n",
    "\n",
    "eta = 0.01 \n",
    "n_iter = 5000\n",
    "\n",
    "W = np.array([1, 0.5])\n",
    "print(f'Number of objects = {n} \\\n",
    "       \\nLearning rate = {eta} \\\n",
    "       \\nInitial weights = {W} \\n')\n",
    "\n",
    "for i in range(n_iter):\n",
    "    y_pred = np.dot(X, W)\n",
    "    err = calc_mse(y, y_pred)\n",
    "    for k in range(W.shape[0]):\n",
    "        W[k] -= eta * (1/n * 2 * X[:, k] @ (y_pred - y))\n",
    "    if i % 200 == 0: #опытным путем выяснила, что лучше понижать скорость обучения каждые 200 итераций\n",
    "        eta /= 1.1\n",
    "        print(f'Iteration #{i}: W_new = {W}, MSE = {round(err, 2)}')"
   ]
  },
  {
   "cell_type": "markdown",
   "id": "supposed-blues",
   "metadata": {},
   "source": [
    "**Вывод:** достигли минимума, в результате которого веса остаются неизменными до нескольких знаков после запятой на протяжении нескольких итераций и MSE = 43.97"
   ]
  },
  {
   "cell_type": "markdown",
   "id": "unauthorized-february",
   "metadata": {},
   "source": [
    "**Задача 2*.** В коде избавляемся от итераций по весам, но тут есть ошибка, исправьте ее  "
   ]
  },
  {
   "cell_type": "code",
   "execution_count": 289,
   "id": "every-pathology",
   "metadata": {},
   "outputs": [
    {
     "data": {
      "text/plain": [
       "(array([[ 1,  1],\n",
       "        [ 1,  1],\n",
       "        [ 1,  2],\n",
       "        [ 1,  5],\n",
       "        [ 1,  3],\n",
       "        [ 1,  0],\n",
       "        [ 1,  5],\n",
       "        [ 1, 10],\n",
       "        [ 1,  1],\n",
       "        [ 1,  2]]),\n",
       " [45, 55, 50, 55, 60, 35, 75, 80, 50, 60])"
      ]
     },
     "execution_count": 289,
     "metadata": {},
     "output_type": "execute_result"
    }
   ],
   "source": [
    "# по примеру задачи с оценкой в зависимости от стажа преподавателя\n",
    "X, y"
   ]
  },
  {
   "cell_type": "code",
   "execution_count": 290,
   "id": "judicial-portfolio",
   "metadata": {},
   "outputs": [
    {
     "name": "stdout",
     "output_type": "stream",
     "text": [
      "Number of objects = 10        \n",
      "Learning rate = 0.01        \n",
      "Initial weights = [1.  0.5] \n",
      "\n",
      "Iteration #0: W_new = [2.08 4.27], MSE = 3047.75\n",
      "Iteration #200: W_new = [38.38986469  5.02247953], MSE = 65.33\n",
      "Iteration #400: W_new = [43.99463466  4.00614091], MSE = 44.52\n",
      "Iteration #600: W_new = [44.89160255  3.84348962], MSE = 43.98\n",
      "Iteration #800: W_new = [45.03515017  3.81745947], MSE = 43.97\n",
      "Iteration #1000: W_new = [45.05812303  3.8132937 ], MSE = 43.97\n",
      "Iteration #1200: W_new = [45.06179952  3.81262702], MSE = 43.97\n",
      "Iteration #1400: W_new = [45.0623879   3.81252033], MSE = 43.97\n",
      "Iteration #1600: W_new = [45.06248206  3.81250325], MSE = 43.97\n",
      "Iteration #1800: W_new = [45.06249713  3.81250052], MSE = 43.97\n",
      "Iteration #2000: W_new = [45.06249954  3.81250008], MSE = 43.97\n",
      "Iteration #2200: W_new = [45.06249993  3.81250001], MSE = 43.97\n",
      "Iteration #2400: W_new = [45.06249999  3.8125    ], MSE = 43.97\n"
     ]
    }
   ],
   "source": [
    "n = X.shape[0]\n",
    "\n",
    "eta = 0.01 \n",
    "n_iter = 2500\n",
    "\n",
    "W = np.array([1, 0.5])\n",
    "print(f'Number of objects = {n} \\\n",
    "       \\nLearning rate = {eta} \\\n",
    "       \\nInitial weights = {W} \\n')\n",
    "\n",
    "for i in range(n_iter):\n",
    "    y_pred = np.dot(X, W)\n",
    "    err = calc_mse(y, y_pred)\n",
    "#     for k in range(W.shape[0]):\n",
    "#         W[k] -= eta * (1/n * 2 * X[:, k] @ (y_pred - y))\n",
    "    \n",
    "    #W -= eta * (1/n * 2 * np.dot(X, y_pred - y))\n",
    "    ## ИЗМЕНЕНИЯ - ДОБАВИЛА ФУНКЦИЮ ТРАНСПОНИРОВАНИЯ К МАТРИЦЕ X\n",
    "    W -= eta * (1/n * 2 * np.dot(X.T, y_pred - y))\n",
    "    if i % 200 == 0: #увеличила до 100\n",
    "        print(f'Iteration #{i}: W_new = {W}, MSE = {round(err,2)}')"
   ]
  },
  {
   "cell_type": "markdown",
   "id": "afraid-providence",
   "metadata": {},
   "source": [
    "**Задача 3*.** Вместо того, чтобы задавать количество итераций, задайте другое условие останова алгоритма - когда веса перестают изменяться меньше определенного порога $\\epsilon$."
   ]
  },
  {
   "cell_type": "code",
   "execution_count": 291,
   "id": "crude-router",
   "metadata": {},
   "outputs": [
    {
     "name": "stdout",
     "output_type": "stream",
     "text": [
      "Iteration #0: W_new = [1.  0.5], MSE = 3047.75\n",
      "Iteration #100: W_new = [28.22929764  6.86494171], MSE = 177.43\n",
      "Iteration #200: W_new = [38.32845066  5.03361602], MSE = 65.33\n",
      "Iteration #300: W_new = [42.36857287  4.30100215], MSE = 47.39\n",
      "Iteration #400: W_new = [43.98480618  4.00792316], MSE = 44.52\n",
      "Iteration #500: W_new = [44.63137328  3.89067818], MSE = 44.06\n",
      "Iteration #600: W_new = [44.89002963  3.84377484], MSE = 43.98\n",
      "Iteration #700: W_new = [44.99350398  3.82501136], MSE = 43.97\n",
      "Iteration #800: W_new = [45.03489844  3.81750512], MSE = 43.97\n",
      "Iteration #900: W_new = [45.05145812  3.81450228], MSE = 43.97\n",
      "Iteration #1000: W_new = [45.05808274  3.813301  ], MSE = 43.97\n",
      "Iteration #1100: W_new = [45.0607329   3.81282044], MSE = 43.97\n",
      "Iteration #1200: W_new = [45.06179308  3.81262819], MSE = 43.97\n",
      "Iteration #1300: W_new = [45.0622172   3.81255128], MSE = 43.97\n",
      "Iteration #1400: W_new = [45.06238687  3.81252052], MSE = 43.97\n",
      "Iteration #1500: W_new = [45.06245474  3.81250821], MSE = 43.97\n",
      "Iteration #1600: W_new = [45.06248189  3.81250328], MSE = 43.97\n",
      "Iteration #1700: W_new = [45.06249276  3.81250131], MSE = 43.97\n",
      "Iteration #1800: W_new = [45.0624971   3.81250053], MSE = 43.97\n",
      "Iteration #1900: W_new = [45.06249884  3.81250021], MSE = 43.97\n"
     ]
    }
   ],
   "source": [
    "n = X.shape[0]\n",
    "\n",
    "eta = 0.01 \n",
    "#max_iter = 1600\n",
    "\n",
    "weight_dist = np.inf\n",
    "min_weight_dist = 1e-8\n",
    "\n",
    "w = np.array([1, 0.5])\n",
    "\n",
    "iter_num = 0\n",
    "\n",
    "while weight_dist > min_weight_dist:\n",
    "    y_pred = np.dot(X, w)\n",
    "    grad = (2/n * np.dot(X.T, y_pred - y))\n",
    "    new_weight = w - eta * grad\n",
    "    weight_dist = np.linalg.norm(new_weight - w, ord = 2)\n",
    "    err = calc_mse(y, y_pred)\n",
    "    if iter_num % 100 == 0: \n",
    "        print(f'Iteration #{iter_num}: W_new = {w}, MSE = {round(err,2)}')\n",
    "    \n",
    "    iter_num +=1\n",
    "    w = new_weight\n",
    "    "
   ]
  },
  {
   "cell_type": "code",
   "execution_count": null,
   "id": "north-simpson",
   "metadata": {},
   "outputs": [],
   "source": []
  }
 ],
 "metadata": {
  "kernelspec": {
   "display_name": "Python 3",
   "language": "python",
   "name": "python3"
  },
  "language_info": {
   "codemirror_mode": {
    "name": "ipython",
    "version": 3
   },
   "file_extension": ".py",
   "mimetype": "text/x-python",
   "name": "python",
   "nbconvert_exporter": "python",
   "pygments_lexer": "ipython3",
   "version": "3.9.2"
  }
 },
 "nbformat": 4,
 "nbformat_minor": 5
}
